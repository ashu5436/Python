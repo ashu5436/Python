{
 "cells": [
  {
   "cell_type": "code",
   "execution_count": 1,
   "id": "80b25692",
   "metadata": {},
   "outputs": [
    {
     "data": {
      "text/plain": [
       "('1.22.4', '1.3.4')"
      ]
     },
     "execution_count": 1,
     "metadata": {},
     "output_type": "execute_result"
    }
   ],
   "source": [
    "import numpy as np\n",
    "import pandas as pd\n",
    "np.__version__,pd.__version__"
   ]
  },
  {
   "cell_type": "markdown",
   "id": "3c148259",
   "metadata": {},
   "source": [
    "# NUMPY\n",
    "Numpy is stand for numeric python and it is an inbuilt library inside python which supports only numeric data types and helpful in creation of one dimensional array (or vector) and two dimensional array (or matrix).\n",
    "##### Limitations- \n",
    "Supports only numeric data types"
   ]
  },
  {
   "cell_type": "markdown",
   "id": "da79626f",
   "metadata": {},
   "source": [
    "### ONE DIMENSIONAL ARRAY IN NUMPY : VECTOR"
   ]
  },
  {
   "cell_type": "code",
   "execution_count": 2,
   "id": "b258ff43",
   "metadata": {},
   "outputs": [
    {
     "data": {
      "text/plain": [
       "array([1, 2, 3, 4, 5])"
      ]
     },
     "execution_count": 2,
     "metadata": {},
     "output_type": "execute_result"
    }
   ],
   "source": [
    "a=np.array([1,2,3,4,5],dtype=int)\n",
    "a #one dimensional"
   ]
  },
  {
   "cell_type": "code",
   "execution_count": 3,
   "id": "3647484e",
   "metadata": {},
   "outputs": [
    {
     "data": {
      "text/plain": [
       "array([0, 0, 0, 1, 2, 3, 4, 5], dtype=int64)"
      ]
     },
     "execution_count": 3,
     "metadata": {},
     "output_type": "execute_result"
    }
   ],
   "source": [
    "a=np.array([0,0,0,1,2,3,4,5],dtype='int64') \n",
    "a #one dimensional"
   ]
  },
  {
   "cell_type": "markdown",
   "id": "e1eb74a8",
   "metadata": {},
   "source": [
    "##### 1bytes=8bit"
   ]
  },
  {
   "cell_type": "code",
   "execution_count": 5,
   "id": "c64dd443",
   "metadata": {},
   "outputs": [
    {
     "data": {
      "text/plain": [
       "array([1., 2., 3., 4., 5.])"
      ]
     },
     "execution_count": 5,
     "metadata": {},
     "output_type": "execute_result"
    }
   ],
   "source": [
    "a=np.array([1,2,3,4,5],dtype='float64') \n",
    "a #one dimensional"
   ]
  },
  {
   "cell_type": "code",
   "execution_count": 6,
   "id": "8a318126",
   "metadata": {},
   "outputs": [
    {
     "data": {
      "text/plain": [
       "array([0, 0, 0, 1, 2, 3, 4, 5])"
      ]
     },
     "execution_count": 6,
     "metadata": {},
     "output_type": "execute_result"
    }
   ],
   "source": [
    "a=np.array([0,0,0,1,2,3,4,5],dtype='int32') \n",
    "a #one dimensional"
   ]
  },
  {
   "cell_type": "code",
   "execution_count": 7,
   "id": "58915349",
   "metadata": {},
   "outputs": [
    {
     "data": {
      "text/plain": [
       "array([0., 0., 0., 1., 2., 3., 4., 5.], dtype=float32)"
      ]
     },
     "execution_count": 7,
     "metadata": {},
     "output_type": "execute_result"
    }
   ],
   "source": [
    "a=np.array([0,0,0,1,2,3,4,5],dtype='float32') \n",
    "a #one dimensional"
   ]
  },
  {
   "cell_type": "code",
   "execution_count": 8,
   "id": "89dc50b3",
   "metadata": {},
   "outputs": [
    {
     "data": {
      "text/plain": [
       "4"
      ]
     },
     "execution_count": 8,
     "metadata": {},
     "output_type": "execute_result"
    }
   ],
   "source": [
    "a.itemsize #each element of array is taking 4 bytes of memory"
   ]
  },
  {
   "cell_type": "markdown",
   "id": "bd4bdf3e",
   "metadata": {},
   "source": [
    "# TWO DIMENSIONAL ARRAY IN NUMPY : MATRIX"
   ]
  },
  {
   "cell_type": "markdown",
   "id": "8dfee1b3",
   "metadata": {},
   "source": [
    "### int=int32, float=float64"
   ]
  },
  {
   "cell_type": "code",
   "execution_count": 9,
   "id": "8d8e2f0c",
   "metadata": {},
   "outputs": [
    {
     "data": {
      "text/plain": [
       "array([[ 1,  2,  3],\n",
       "       [ 4,  5,  6],\n",
       "       [ 9,  8, 11]])"
      ]
     },
     "execution_count": 9,
     "metadata": {},
     "output_type": "execute_result"
    }
   ],
   "source": [
    "b=np.array([[1,2,3],[4,5,6],[9,8,11]])\n",
    "b #two dimensional"
   ]
  },
  {
   "cell_type": "code",
   "execution_count": 10,
   "id": "bd043bb8",
   "metadata": {},
   "outputs": [
    {
     "data": {
      "text/plain": [
       "dtype('int32')"
      ]
     },
     "execution_count": 10,
     "metadata": {},
     "output_type": "execute_result"
    }
   ],
   "source": [
    "b.dtype"
   ]
  },
  {
   "cell_type": "code",
   "execution_count": 11,
   "id": "4f7b0b70",
   "metadata": {},
   "outputs": [
    {
     "data": {
      "text/plain": [
       "4"
      ]
     },
     "execution_count": 11,
     "metadata": {},
     "output_type": "execute_result"
    }
   ],
   "source": [
    "b.itemsize"
   ]
  },
  {
   "cell_type": "code",
   "execution_count": 12,
   "id": "cfc6ba21",
   "metadata": {},
   "outputs": [
    {
     "data": {
      "text/plain": [
       "array([[ 1,  2,  3],\n",
       "       [ 4,  5,  6],\n",
       "       [ 9,  8, 11]])"
      ]
     },
     "execution_count": 12,
     "metadata": {},
     "output_type": "execute_result"
    }
   ],
   "source": [
    "b=np.array([[1,2,3],[4,5,6],[9,8,11]],dtype='int')\n",
    "b #two dimensional"
   ]
  },
  {
   "cell_type": "code",
   "execution_count": 13,
   "id": "0330ff8a",
   "metadata": {},
   "outputs": [
    {
     "data": {
      "text/plain": [
       "dtype('int32')"
      ]
     },
     "execution_count": 13,
     "metadata": {},
     "output_type": "execute_result"
    }
   ],
   "source": [
    "b.dtype"
   ]
  },
  {
   "cell_type": "code",
   "execution_count": 14,
   "id": "676e22ea",
   "metadata": {},
   "outputs": [
    {
     "data": {
      "text/plain": [
       "4"
      ]
     },
     "execution_count": 14,
     "metadata": {},
     "output_type": "execute_result"
    }
   ],
   "source": [
    "b.itemsize"
   ]
  },
  {
   "cell_type": "code",
   "execution_count": 16,
   "id": "ed39954d",
   "metadata": {},
   "outputs": [
    {
     "data": {
      "text/plain": [
       "array([[ 1.,  2.,  3.],\n",
       "       [ 4.,  5.,  6.],\n",
       "       [ 9.,  8., 11.]])"
      ]
     },
     "execution_count": 16,
     "metadata": {},
     "output_type": "execute_result"
    }
   ],
   "source": [
    "b=np.array([[1,2,3],[4,5,6],[9,8,11]],dtype='float')\n",
    "b #two dimensional"
   ]
  },
  {
   "cell_type": "code",
   "execution_count": 17,
   "id": "786fdb3e",
   "metadata": {},
   "outputs": [
    {
     "data": {
      "text/plain": [
       "(dtype('float64'), 8)"
      ]
     },
     "execution_count": 17,
     "metadata": {},
     "output_type": "execute_result"
    }
   ],
   "source": [
    "b.dtype,b.itemsize"
   ]
  },
  {
   "cell_type": "markdown",
   "id": "ac02360a",
   "metadata": {},
   "source": [
    "### OTHER METHODS FOR CREATING ONE & TWO DIMENSIONAL ARRAY OR MATRIX"
   ]
  },
  {
   "cell_type": "markdown",
   "id": "fca6aa4a",
   "metadata": {},
   "source": [
    "## ARANGE\n",
    "##### RESHAPE will transform one timensional into two dimensional array"
   ]
  },
  {
   "cell_type": "code",
   "execution_count": 21,
   "id": "e678db1c",
   "metadata": {},
   "outputs": [
    {
     "data": {
      "text/plain": [
       "array([ 0,  2,  4,  6,  8, 10, 12, 14, 16, 18])"
      ]
     },
     "execution_count": 21,
     "metadata": {},
     "output_type": "execute_result"
    }
   ],
   "source": [
    "b=np.arange(0,20,2)\n",
    "b #one dimensional"
   ]
  },
  {
   "cell_type": "code",
   "execution_count": 26,
   "id": "4abf7ef6",
   "metadata": {},
   "outputs": [
    {
     "data": {
      "text/plain": [
       "array([[ 0.,  2.],\n",
       "       [ 4.,  6.],\n",
       "       [ 8., 10.],\n",
       "       [12., 14.],\n",
       "       [16., 18.]], dtype=float32)"
      ]
     },
     "execution_count": 26,
     "metadata": {},
     "output_type": "execute_result"
    }
   ],
   "source": [
    "b=np.arange(0,20,2,dtype='float32')\n",
    "b.reshape(5,2) #two dimensional"
   ]
  },
  {
   "cell_type": "code",
   "execution_count": 23,
   "id": "f3dd492e",
   "metadata": {},
   "outputs": [
    {
     "data": {
      "text/plain": [
       "4"
      ]
     },
     "execution_count": 23,
     "metadata": {},
     "output_type": "execute_result"
    }
   ],
   "source": [
    "b.itemsize"
   ]
  },
  {
   "cell_type": "markdown",
   "id": "898c821d",
   "metadata": {},
   "source": [
    "## LINSAPCE"
   ]
  },
  {
   "cell_type": "code",
   "execution_count": 141,
   "id": "0c77bea9",
   "metadata": {},
   "outputs": [
    {
     "data": {
      "text/plain": [
       "array([ 0., 10., 20., 30., 40., 50., 60., 70., 80., 90.])"
      ]
     },
     "execution_count": 141,
     "metadata": {},
     "output_type": "execute_result"
    }
   ],
   "source": [
    "b=np.linspace(0,90,10)#it will return array of 10 element but 0 and 10 both will be included in the array unlike randint\n",
    "b #one dimensional array"
   ]
  },
  {
   "cell_type": "markdown",
   "id": "3548569e",
   "metadata": {},
   "source": [
    "## INDEXING AND SLICING IN NUMPY ONE DIMENSIONAL ARRAY"
   ]
  },
  {
   "cell_type": "code",
   "execution_count": 142,
   "id": "fe40ca43",
   "metadata": {},
   "outputs": [
    {
     "data": {
      "text/plain": [
       "0.0"
      ]
     },
     "execution_count": 142,
     "metadata": {},
     "output_type": "execute_result"
    }
   ],
   "source": [
    "b[0]"
   ]
  },
  {
   "cell_type": "code",
   "execution_count": 143,
   "id": "9800a7eb",
   "metadata": {},
   "outputs": [
    {
     "data": {
      "text/plain": [
       "array([ 0., 10., 20., 30., 40., 50., 60.])"
      ]
     },
     "execution_count": 143,
     "metadata": {},
     "output_type": "execute_result"
    }
   ],
   "source": [
    "b[0:7]"
   ]
  },
  {
   "cell_type": "code",
   "execution_count": 144,
   "id": "f4127144",
   "metadata": {},
   "outputs": [
    {
     "data": {
      "text/plain": [
       "array([60., 70., 80., 90.])"
      ]
     },
     "execution_count": 144,
     "metadata": {},
     "output_type": "execute_result"
    }
   ],
   "source": [
    "b[-4:]"
   ]
  },
  {
   "cell_type": "code",
   "execution_count": 137,
   "id": "ef708577",
   "metadata": {},
   "outputs": [
    {
     "data": {
      "text/plain": [
       "array([[ 0., 10., 20., 30., 40.],\n",
       "       [50., 60., 70., 80., 90.]])"
      ]
     },
     "execution_count": 137,
     "metadata": {},
     "output_type": "execute_result"
    }
   ],
   "source": [
    "b=np.linspace(0,90,10).reshape(2,5)\n",
    "b #two dimensional array"
   ]
  },
  {
   "cell_type": "code",
   "execution_count": 138,
   "id": "11a440cb",
   "metadata": {},
   "outputs": [
    {
     "data": {
      "text/plain": [
       "((2, 5), 2, 5)"
      ]
     },
     "execution_count": 138,
     "metadata": {},
     "output_type": "execute_result"
    }
   ],
   "source": [
    "b.shape,b.shape[0],b.shape[1]"
   ]
  },
  {
   "cell_type": "markdown",
   "id": "4d810614",
   "metadata": {},
   "source": [
    "### SOME FEATURES OF NUMPY"
   ]
  },
  {
   "cell_type": "code",
   "execution_count": 52,
   "id": "28039cd1",
   "metadata": {},
   "outputs": [
    {
     "data": {
      "text/plain": [
       "dtype('float64')"
      ]
     },
     "execution_count": 52,
     "metadata": {},
     "output_type": "execute_result"
    }
   ],
   "source": [
    "b.dtype #data type"
   ]
  },
  {
   "cell_type": "code",
   "execution_count": 53,
   "id": "a3849cb7",
   "metadata": {},
   "outputs": [
    {
     "data": {
      "text/plain": [
       "8"
      ]
     },
     "execution_count": 53,
     "metadata": {},
     "output_type": "execute_result"
    }
   ],
   "source": [
    "b.itemsize #bytes of memory each element is taking in array"
   ]
  },
  {
   "cell_type": "code",
   "execution_count": 54,
   "id": "41d3a127",
   "metadata": {},
   "outputs": [
    {
     "data": {
      "text/plain": [
       "10"
      ]
     },
     "execution_count": 54,
     "metadata": {},
     "output_type": "execute_result"
    }
   ],
   "source": [
    "b.size #total count of element"
   ]
  },
  {
   "cell_type": "code",
   "execution_count": 55,
   "id": "e09626a8",
   "metadata": {},
   "outputs": [
    {
     "data": {
      "text/plain": [
       "9"
      ]
     },
     "execution_count": 55,
     "metadata": {},
     "output_type": "execute_result"
    }
   ],
   "source": [
    "b.argmax() #position of maximum value of the array"
   ]
  },
  {
   "cell_type": "code",
   "execution_count": 56,
   "id": "118aeb4c",
   "metadata": {},
   "outputs": [
    {
     "data": {
      "text/plain": [
       "0"
      ]
     },
     "execution_count": 56,
     "metadata": {},
     "output_type": "execute_result"
    }
   ],
   "source": [
    "b.argmin()#position of min value of the array"
   ]
  },
  {
   "cell_type": "code",
   "execution_count": 57,
   "id": "19d9bf26",
   "metadata": {},
   "outputs": [
    {
     "data": {
      "text/plain": [
       "90.0"
      ]
     },
     "execution_count": 57,
     "metadata": {},
     "output_type": "execute_result"
    }
   ],
   "source": [
    "b.max()#max value of array"
   ]
  },
  {
   "cell_type": "code",
   "execution_count": 58,
   "id": "1a5069d1",
   "metadata": {},
   "outputs": [
    {
     "data": {
      "text/plain": [
       "0.0"
      ]
     },
     "execution_count": 58,
     "metadata": {},
     "output_type": "execute_result"
    }
   ],
   "source": [
    "b.min()#min value of array"
   ]
  },
  {
   "cell_type": "code",
   "execution_count": 59,
   "id": "fadb97b1",
   "metadata": {},
   "outputs": [
    {
     "data": {
      "text/plain": [
       "2"
      ]
     },
     "execution_count": 59,
     "metadata": {},
     "output_type": "execute_result"
    }
   ],
   "source": [
    "b.ndim#what is the dimension of array"
   ]
  },
  {
   "cell_type": "code",
   "execution_count": 61,
   "id": "35836df0",
   "metadata": {},
   "outputs": [
    {
     "data": {
      "text/plain": [
       "array([ 0., 10., 20., 30., 40., 50., 60., 70., 80., 90.])"
      ]
     },
     "execution_count": 61,
     "metadata": {},
     "output_type": "execute_result"
    }
   ],
   "source": [
    "a=np.ravel(b)#it will convert a two dimensional array into one dimensional array\n",
    "a"
   ]
  },
  {
   "cell_type": "code",
   "execution_count": 43,
   "id": "45382715",
   "metadata": {},
   "outputs": [],
   "source": [
    "import random"
   ]
  },
  {
   "cell_type": "markdown",
   "id": "841b6d66",
   "metadata": {},
   "source": [
    "## RANDINT"
   ]
  },
  {
   "cell_type": "code",
   "execution_count": 44,
   "id": "dd602a3a",
   "metadata": {},
   "outputs": [],
   "source": [
    "from random import randint"
   ]
  },
  {
   "cell_type": "code",
   "execution_count": 46,
   "id": "841a3133",
   "metadata": {},
   "outputs": [
    {
     "data": {
      "text/plain": [
       "array([75, 59, 38, 62, 29, 61, 31, 38, 12, 10])"
      ]
     },
     "execution_count": 46,
     "metadata": {},
     "output_type": "execute_result"
    }
   ],
   "source": [
    "c=np.random.randint(0,90,10) #it will return array of 10 element but 0 and 10 will not necessary to get included unlike Linspace\n",
    "c #one dimensonal array or vector "
   ]
  },
  {
   "cell_type": "code",
   "execution_count": 47,
   "id": "05b4ed8d",
   "metadata": {},
   "outputs": [
    {
     "data": {
      "text/plain": [
       "array([[74, 49, 27, 30, 66],\n",
       "       [52, 70, 48, 64, 77]])"
      ]
     },
     "execution_count": 47,
     "metadata": {},
     "output_type": "execute_result"
    }
   ],
   "source": [
    "c=np.random.randint(0,90,10).reshape(2,5)\n",
    "c #two dimensonal array or vector "
   ]
  },
  {
   "cell_type": "markdown",
   "id": "8b5ead3b",
   "metadata": {},
   "source": [
    "## RAND,RANDN,RANDOM"
   ]
  },
  {
   "cell_type": "code",
   "execution_count": 78,
   "id": "cd1cf50a",
   "metadata": {},
   "outputs": [
    {
     "data": {
      "text/plain": [
       "array([0.81443067, 0.1513021 , 0.66465539, 0.84035697, 0.74983973,\n",
       "       0.03608963, 0.88350794, 0.99131215, 0.63885447, 0.48376393])"
      ]
     },
     "execution_count": 78,
     "metadata": {},
     "output_type": "execute_result"
    }
   ],
   "source": [
    "d=np.random.rand(10)\n",
    "d#one dimensonal array or vector "
   ]
  },
  {
   "cell_type": "code",
   "execution_count": 79,
   "id": "8bd9d23d",
   "metadata": {},
   "outputs": [
    {
     "data": {
      "text/plain": [
       "array([[0.5046305 , 0.96527324],\n",
       "       [0.79813305, 0.86022973],\n",
       "       [0.78174742, 0.49651701],\n",
       "       [0.5941849 , 0.15144624],\n",
       "       [0.63051311, 0.85854224]])"
      ]
     },
     "execution_count": 79,
     "metadata": {},
     "output_type": "execute_result"
    }
   ],
   "source": [
    "d=np.random.rand(10).reshape(5,2)\n",
    "d#two dimensonal array or vector "
   ]
  },
  {
   "cell_type": "code",
   "execution_count": 81,
   "id": "fe95e941",
   "metadata": {},
   "outputs": [
    {
     "data": {
      "text/plain": [
       "array([[0.21649854, 0.12976152, 0.06801185, 0.69668388],\n",
       "       [0.43565383, 0.03368948, 0.2335837 , 0.38124448],\n",
       "       [0.0260196 , 0.87290571, 0.04811797, 0.76746297],\n",
       "       [0.06989755, 0.37248249, 0.74836415, 0.95218392],\n",
       "       [0.84848599, 0.35040309, 0.58694896, 0.03589718],\n",
       "       [0.56119548, 0.95762796, 0.82096463, 0.44722481],\n",
       "       [0.38771136, 0.74711241, 0.52694598, 0.43062134],\n",
       "       [0.47722273, 0.29869345, 0.13677574, 0.15649512],\n",
       "       [0.01614365, 0.98262782, 0.68615292, 0.3599291 ],\n",
       "       [0.85433989, 0.21520452, 0.22327149, 0.36344681]])"
      ]
     },
     "execution_count": 81,
     "metadata": {},
     "output_type": "execute_result"
    }
   ],
   "source": [
    "d=np.random.rand(10,4) #without using reshape we can create two dimensional array\n",
    "d#two dimensonal array or vector "
   ]
  },
  {
   "cell_type": "code",
   "execution_count": 62,
   "id": "6143302f",
   "metadata": {},
   "outputs": [
    {
     "data": {
      "text/plain": [
       "array([0.46974098, 0.89007352, 0.57916943, 0.74802419, 0.93666624,\n",
       "       0.74729324, 0.98388487, 0.70540776, 0.7196765 , 0.01416427])"
      ]
     },
     "execution_count": 62,
     "metadata": {},
     "output_type": "execute_result"
    }
   ],
   "source": [
    "d=np.random.random(10)\n",
    "d#one dimensonal array or vector "
   ]
  },
  {
   "cell_type": "code",
   "execution_count": 63,
   "id": "f82bf36c",
   "metadata": {},
   "outputs": [
    {
     "data": {
      "text/plain": [
       "array([[0.94338551, 0.45145615],\n",
       "       [0.34456413, 0.3958864 ],\n",
       "       [0.1197554 , 0.31764348],\n",
       "       [0.77926485, 0.59145992],\n",
       "       [0.58538833, 0.96559707]])"
      ]
     },
     "execution_count": 63,
     "metadata": {},
     "output_type": "execute_result"
    }
   ],
   "source": [
    "d=np.random.random(10).reshape(5,2)\n",
    "d#two dimensonal array or vector "
   ]
  },
  {
   "cell_type": "code",
   "execution_count": 66,
   "id": "0d5dc340",
   "metadata": {},
   "outputs": [
    {
     "data": {
      "text/plain": [
       "array([[0.13706075, 0.42114393, 0.15964636, 0.75546676],\n",
       "       [0.99736174, 0.25690884, 0.50566568, 0.75324557],\n",
       "       [0.09310141, 0.87404605, 0.08469307, 0.69351216],\n",
       "       [0.30698703, 0.02229993, 0.98402978, 0.23501233],\n",
       "       [0.72249029, 0.39067604, 0.6186633 , 0.23692333],\n",
       "       [0.52543142, 0.73169606, 0.83796629, 0.43376475],\n",
       "       [0.32920522, 0.81341243, 0.79280325, 0.94858329],\n",
       "       [0.38765327, 0.91657707, 0.66716681, 0.71045977],\n",
       "       [0.51046434, 0.63739235, 0.82968381, 0.617825  ],\n",
       "       [0.27078133, 0.52600326, 0.48237545, 0.46941353]])"
      ]
     },
     "execution_count": 66,
     "metadata": {},
     "output_type": "execute_result"
    }
   ],
   "source": [
    "d=np.random.random((10,4))\n",
    "d#two dimensonal array or vector "
   ]
  },
  {
   "cell_type": "code",
   "execution_count": 68,
   "id": "9314aad2",
   "metadata": {},
   "outputs": [
    {
     "data": {
      "text/plain": [
       "array([-1.28050758, -1.48233315, -0.76324044,  0.21804583,  0.14792527,\n",
       "        0.80674365, -0.22762927, -0.73891911, -1.43939318, -0.77284605])"
      ]
     },
     "execution_count": 68,
     "metadata": {},
     "output_type": "execute_result"
    }
   ],
   "source": [
    "d=np.random.randn(10)\n",
    "d#one dimensonal array or vector "
   ]
  },
  {
   "cell_type": "code",
   "execution_count": 69,
   "id": "96c99c9a",
   "metadata": {},
   "outputs": [
    {
     "data": {
      "text/plain": [
       "array([[-1.52901205,  0.10584917],\n",
       "       [ 0.05210879, -1.30647808],\n",
       "       [ 1.6955916 ,  0.77465288],\n",
       "       [-2.07396602, -0.18618722],\n",
       "       [ 1.14060683,  0.32769752]])"
      ]
     },
     "execution_count": 69,
     "metadata": {},
     "output_type": "execute_result"
    }
   ],
   "source": [
    "d=np.random.randn(10).reshape(5,2)\n",
    "d#two dimensonal array or vector "
   ]
  },
  {
   "cell_type": "code",
   "execution_count": 82,
   "id": "3e6e0944",
   "metadata": {},
   "outputs": [
    {
     "data": {
      "text/plain": [
       "array([[ 2.00893632, -0.10950463, -0.63771348,  0.10338902],\n",
       "       [-1.21984562,  0.0256307 ,  0.07658299,  1.19174182],\n",
       "       [ 0.49132021, -1.90040799,  0.06832875,  1.16249514],\n",
       "       [-0.42098001,  0.41565484, -1.12585544, -0.12333872],\n",
       "       [ 0.75959437, -0.02638985,  1.14828199,  0.45171382],\n",
       "       [-0.61048551,  0.15271823,  1.39132033, -1.6315066 ],\n",
       "       [ 0.82007324,  0.2362253 , -1.24928377, -0.16147684],\n",
       "       [ 2.14878332, -0.31568127,  0.82384949, -0.30953835],\n",
       "       [ 0.85373695, -0.68403046,  0.48552707, -1.49934952],\n",
       "       [-1.0353132 , -1.01254765,  0.7710093 ,  0.61328607]])"
      ]
     },
     "execution_count": 82,
     "metadata": {},
     "output_type": "execute_result"
    }
   ],
   "source": [
    "d=np.random.randn(10,4)\n",
    "d#two dimensonal array or vector "
   ]
  },
  {
   "cell_type": "markdown",
   "id": "9e60e79f",
   "metadata": {},
   "source": [
    "## ONE AND TWO DIMENSIONAL ZERO ARRAYS"
   ]
  },
  {
   "cell_type": "code",
   "execution_count": 87,
   "id": "67fa3b6f",
   "metadata": {},
   "outputs": [
    {
     "data": {
      "text/plain": [
       "array([0., 0., 0., 0., 0., 0., 0., 0., 0., 0.])"
      ]
     },
     "execution_count": 87,
     "metadata": {},
     "output_type": "execute_result"
    }
   ],
   "source": [
    "a=np.zeros(10)\n",
    "a#one dimensional vector"
   ]
  },
  {
   "cell_type": "code",
   "execution_count": 88,
   "id": "2bd80f5b",
   "metadata": {},
   "outputs": [
    {
     "data": {
      "text/plain": [
       "array([[0., 0.],\n",
       "       [0., 0.],\n",
       "       [0., 0.],\n",
       "       [0., 0.],\n",
       "       [0., 0.]])"
      ]
     },
     "execution_count": 88,
     "metadata": {},
     "output_type": "execute_result"
    }
   ],
   "source": [
    "a=np.zeros(10).reshape(5,2)\n",
    "a#two dimensonal array or vector "
   ]
  },
  {
   "cell_type": "code",
   "execution_count": 86,
   "id": "a0b87220",
   "metadata": {},
   "outputs": [
    {
     "data": {
      "text/plain": [
       "array([[0., 0., 0., 0., 0.],\n",
       "       [0., 0., 0., 0., 0.],\n",
       "       [0., 0., 0., 0., 0.],\n",
       "       [0., 0., 0., 0., 0.],\n",
       "       [0., 0., 0., 0., 0.]])"
      ]
     },
     "execution_count": 86,
     "metadata": {},
     "output_type": "execute_result"
    }
   ],
   "source": [
    "a=np.zeros((5,5))\n",
    "a#two dimensonal array or vector "
   ]
  },
  {
   "cell_type": "markdown",
   "id": "ad6a0110",
   "metadata": {},
   "source": [
    "## ONE AND TWO DIMENSIONAL UNIT ARRAYS"
   ]
  },
  {
   "cell_type": "code",
   "execution_count": 95,
   "id": "b6f3e547",
   "metadata": {},
   "outputs": [
    {
     "data": {
      "text/plain": [
       "array([1., 1., 1., 1., 1., 1., 1., 1., 1., 1.])"
      ]
     },
     "execution_count": 95,
     "metadata": {},
     "output_type": "execute_result"
    }
   ],
   "source": [
    "z=np.ones(10)\n",
    "z#one dimensonal array or vector "
   ]
  },
  {
   "cell_type": "code",
   "execution_count": 92,
   "id": "61ee76c0",
   "metadata": {},
   "outputs": [
    {
     "data": {
      "text/plain": [
       "array([[1., 1.],\n",
       "       [1., 1.],\n",
       "       [1., 1.],\n",
       "       [1., 1.],\n",
       "       [1., 1.]])"
      ]
     },
     "execution_count": 92,
     "metadata": {},
     "output_type": "execute_result"
    }
   ],
   "source": [
    "z=np.ones(10).reshape(5,2)\n",
    "z#two dimensonal array or vector "
   ]
  },
  {
   "cell_type": "code",
   "execution_count": 94,
   "id": "eec6c0cd",
   "metadata": {},
   "outputs": [
    {
     "data": {
      "text/plain": [
       "array([[1., 1., 1., 1., 1., 1., 1., 1., 1., 1.],\n",
       "       [1., 1., 1., 1., 1., 1., 1., 1., 1., 1.],\n",
       "       [1., 1., 1., 1., 1., 1., 1., 1., 1., 1.],\n",
       "       [1., 1., 1., 1., 1., 1., 1., 1., 1., 1.],\n",
       "       [1., 1., 1., 1., 1., 1., 1., 1., 1., 1.],\n",
       "       [1., 1., 1., 1., 1., 1., 1., 1., 1., 1.],\n",
       "       [1., 1., 1., 1., 1., 1., 1., 1., 1., 1.],\n",
       "       [1., 1., 1., 1., 1., 1., 1., 1., 1., 1.],\n",
       "       [1., 1., 1., 1., 1., 1., 1., 1., 1., 1.],\n",
       "       [1., 1., 1., 1., 1., 1., 1., 1., 1., 1.]])"
      ]
     },
     "execution_count": 94,
     "metadata": {},
     "output_type": "execute_result"
    }
   ],
   "source": [
    "z=np.ones((10,10))\n",
    "z#two dimensonal array or vector "
   ]
  },
  {
   "cell_type": "markdown",
   "id": "0c71e26f",
   "metadata": {},
   "source": [
    "## IDENTITY MATRIX IS ALWAYS A TWO DIMENSIONAL MATRIX"
   ]
  },
  {
   "cell_type": "code",
   "execution_count": 100,
   "id": "5f92a551",
   "metadata": {},
   "outputs": [
    {
     "data": {
      "text/plain": [
       "array([[1.]])"
      ]
     },
     "execution_count": 100,
     "metadata": {},
     "output_type": "execute_result"
    }
   ],
   "source": [
    "a=np.eye(1)\n",
    "a#two dimensonal array or vector "
   ]
  },
  {
   "cell_type": "code",
   "execution_count": 101,
   "id": "782bc3d1",
   "metadata": {},
   "outputs": [
    {
     "data": {
      "text/plain": [
       "array([[1., 0.]])"
      ]
     },
     "execution_count": 101,
     "metadata": {},
     "output_type": "execute_result"
    }
   ],
   "source": [
    "a=np.eye(1,2)\n",
    "a#two dimensonal array or vector "
   ]
  },
  {
   "cell_type": "code",
   "execution_count": 102,
   "id": "50bda3cc",
   "metadata": {},
   "outputs": [
    {
     "data": {
      "text/plain": [
       "array([[1., 0., 0., 0., 0.],\n",
       "       [0., 1., 0., 0., 0.],\n",
       "       [0., 0., 1., 0., 0.],\n",
       "       [0., 0., 0., 1., 0.],\n",
       "       [0., 0., 0., 0., 1.]])"
      ]
     },
     "execution_count": 102,
     "metadata": {},
     "output_type": "execute_result"
    }
   ],
   "source": [
    "a=np.eye(5)\n",
    "a#two dimensonal array or vector "
   ]
  },
  {
   "cell_type": "code",
   "execution_count": 103,
   "id": "89cb995e",
   "metadata": {},
   "outputs": [
    {
     "data": {
      "text/plain": [
       "array([[1., 0., 0., 0., 0.],\n",
       "       [0., 1., 0., 0., 0.],\n",
       "       [0., 0., 1., 0., 0.],\n",
       "       [0., 0., 0., 1., 0.],\n",
       "       [0., 0., 0., 0., 1.]])"
      ]
     },
     "execution_count": 103,
     "metadata": {},
     "output_type": "execute_result"
    }
   ],
   "source": [
    "a=np.eye(5,5)\n",
    "a#two dimensonal array or vector "
   ]
  },
  {
   "cell_type": "markdown",
   "id": "0a551934",
   "metadata": {},
   "source": [
    "## INDEXING AND SLICING IN NUMPY TWO DIMENSIONAL ARRAY"
   ]
  },
  {
   "cell_type": "code",
   "execution_count": 104,
   "id": "2821c909",
   "metadata": {},
   "outputs": [
    {
     "data": {
      "text/plain": [
       "array([[1., 0., 0., 0., 0.],\n",
       "       [0., 1., 0., 0., 0.],\n",
       "       [0., 0., 1., 0., 0.],\n",
       "       [0., 0., 0., 1., 0.],\n",
       "       [0., 0., 0., 0., 1.]])"
      ]
     },
     "execution_count": 104,
     "metadata": {},
     "output_type": "execute_result"
    }
   ],
   "source": [
    "a"
   ]
  },
  {
   "cell_type": "code",
   "execution_count": 106,
   "id": "89a8d706",
   "metadata": {},
   "outputs": [
    {
     "data": {
      "text/plain": [
       "1.0"
      ]
     },
     "execution_count": 106,
     "metadata": {},
     "output_type": "execute_result"
    }
   ],
   "source": [
    "a[0,0]#return value of 1st rows and 1st column"
   ]
  },
  {
   "cell_type": "code",
   "execution_count": 109,
   "id": "c445ecdf",
   "metadata": {},
   "outputs": [
    {
     "data": {
      "text/plain": [
       "1.0"
      ]
     },
     "execution_count": 109,
     "metadata": {},
     "output_type": "execute_result"
    }
   ],
   "source": [
    "a[0][0]#return value of 1st rows and 1st column"
   ]
  },
  {
   "cell_type": "code",
   "execution_count": 107,
   "id": "32fafd8c",
   "metadata": {},
   "outputs": [
    {
     "data": {
      "text/plain": [
       "array([[1., 0.],\n",
       "       [0., 1.],\n",
       "       [0., 0.],\n",
       "       [0., 0.],\n",
       "       [0., 0.]])"
      ]
     },
     "execution_count": 107,
     "metadata": {},
     "output_type": "execute_result"
    }
   ],
   "source": [
    "a[:,:2]"
   ]
  },
  {
   "cell_type": "code",
   "execution_count": 108,
   "id": "874aec11",
   "metadata": {},
   "outputs": [
    {
     "data": {
      "text/plain": [
       "array([[1., 0., 0.],\n",
       "       [0., 1., 0.],\n",
       "       [0., 0., 1.]])"
      ]
     },
     "execution_count": 108,
     "metadata": {},
     "output_type": "execute_result"
    }
   ],
   "source": [
    "a[-3:,-3:]"
   ]
  },
  {
   "cell_type": "code",
   "execution_count": 110,
   "id": "63804afa",
   "metadata": {},
   "outputs": [],
   "source": [
    "a=np.arange(20)\n",
    "b=np.arange(30)"
   ]
  },
  {
   "cell_type": "code",
   "execution_count": 111,
   "id": "eb460c04",
   "metadata": {},
   "outputs": [
    {
     "data": {
      "text/plain": [
       "(array([ 0,  1,  2,  3,  4,  5,  6,  7,  8,  9, 10, 11, 12, 13, 14, 15, 16,\n",
       "        17, 18, 19]),\n",
       " array([ 0,  1,  2,  3,  4,  5,  6,  7,  8,  9, 10, 11, 12, 13, 14, 15, 16,\n",
       "        17, 18, 19, 20, 21, 22, 23, 24, 25, 26, 27, 28, 29]))"
      ]
     },
     "execution_count": 111,
     "metadata": {},
     "output_type": "execute_result"
    }
   ],
   "source": [
    "a,b"
   ]
  },
  {
   "cell_type": "code",
   "execution_count": 117,
   "id": "39e56c08",
   "metadata": {},
   "outputs": [
    {
     "data": {
      "text/plain": [
       "array([ 2,  3,  4,  5,  6,  7,  8,  9, 10, 11, 12, 13, 14, 15, 16, 17, 18,\n",
       "       19, 20, 21])"
      ]
     },
     "execution_count": 117,
     "metadata": {},
     "output_type": "execute_result"
    }
   ],
   "source": [
    "a+2#adding 2 in array a"
   ]
  },
  {
   "cell_type": "code",
   "execution_count": 118,
   "id": "f181d549",
   "metadata": {},
   "outputs": [
    {
     "data": {
      "text/plain": [
       "array([  0,  10,  20,  30,  40,  50,  60,  70,  80,  90, 100, 110, 120,\n",
       "       130, 140, 150, 160, 170, 180, 190, 200, 210, 220, 230, 240, 250,\n",
       "       260, 270, 280, 290])"
      ]
     },
     "execution_count": 118,
     "metadata": {},
     "output_type": "execute_result"
    }
   ],
   "source": [
    "b*10#multiplying 10 in array b"
   ]
  },
  {
   "cell_type": "code",
   "execution_count": 119,
   "id": "211ffbd6",
   "metadata": {},
   "outputs": [
    {
     "data": {
      "text/plain": [
       "array([-2, -1,  0,  1,  2,  3,  4,  5,  6,  7,  8,  9, 10, 11, 12, 13, 14,\n",
       "       15, 16, 17])"
      ]
     },
     "execution_count": 119,
     "metadata": {},
     "output_type": "execute_result"
    }
   ],
   "source": [
    "a-2 #substracting"
   ]
  },
  {
   "cell_type": "code",
   "execution_count": 120,
   "id": "a60cac6a",
   "metadata": {},
   "outputs": [
    {
     "data": {
      "text/plain": [
       "array([0. , 0.1, 0.2, 0.3, 0.4, 0.5, 0.6, 0.7, 0.8, 0.9, 1. , 1.1, 1.2,\n",
       "       1.3, 1.4, 1.5, 1.6, 1.7, 1.8, 1.9, 2. , 2.1, 2.2, 2.3, 2.4, 2.5,\n",
       "       2.6, 2.7, 2.8, 2.9])"
      ]
     },
     "execution_count": 120,
     "metadata": {},
     "output_type": "execute_result"
    }
   ],
   "source": [
    "b/10 #dividing"
   ]
  },
  {
   "cell_type": "code",
   "execution_count": 132,
   "id": "e2e4164a",
   "metadata": {},
   "outputs": [
    {
     "data": {
      "text/plain": [
       "array([  0,   1,   4,   9,  16,  25,  36,  49,  64,  81, 100, 121, 144,\n",
       "       169, 196, 225, 256, 289, 324, 361, 400, 441, 484, 529, 576, 625,\n",
       "       676, 729, 784, 841])"
      ]
     },
     "execution_count": 132,
     "metadata": {},
     "output_type": "execute_result"
    }
   ],
   "source": [
    "b**2 #squaring"
   ]
  },
  {
   "cell_type": "code",
   "execution_count": 134,
   "id": "ed2a23a6",
   "metadata": {},
   "outputs": [
    {
     "data": {
      "text/plain": [
       "array([0.        , 1.        , 1.41421356, 1.73205081, 2.        ,\n",
       "       2.23606798, 2.44948974, 2.64575131, 2.82842712, 3.        ,\n",
       "       3.16227766, 3.31662479, 3.46410162, 3.60555128, 3.74165739,\n",
       "       3.87298335, 4.        , 4.12310563, 4.24264069, 4.35889894])"
      ]
     },
     "execution_count": 134,
     "metadata": {},
     "output_type": "execute_result"
    }
   ],
   "source": [
    "a**0.5 #squareroot"
   ]
  },
  {
   "cell_type": "code",
   "execution_count": 135,
   "id": "709c4706",
   "metadata": {},
   "outputs": [
    {
     "data": {
      "text/plain": [
       "array([    0,     1,     8,    27,    64,   125,   216,   343,   512,\n",
       "         729,  1000,  1331,  1728,  2197,  2744,  3375,  4096,  4913,\n",
       "        5832,  6859,  8000,  9261, 10648, 12167, 13824, 15625, 17576,\n",
       "       19683, 21952, 24389], dtype=int32)"
      ]
     },
     "execution_count": 135,
     "metadata": {},
     "output_type": "execute_result"
    }
   ],
   "source": [
    "b**3 #cubing"
   ]
  },
  {
   "cell_type": "code",
   "execution_count": 123,
   "id": "6ba88692",
   "metadata": {},
   "outputs": [
    {
     "name": "stderr",
     "output_type": "stream",
     "text": [
      "C:\\Users\\Admin\\AppData\\Local\\Temp/ipykernel_11520/176755284.py:1: RuntimeWarning: divide by zero encountered in log\n",
      "  np.log(a)\n"
     ]
    },
    {
     "data": {
      "text/plain": [
       "array([      -inf, 0.        , 0.69314718, 1.09861229, 1.38629436,\n",
       "       1.60943791, 1.79175947, 1.94591015, 2.07944154, 2.19722458,\n",
       "       2.30258509, 2.39789527, 2.48490665, 2.56494936, 2.63905733,\n",
       "       2.7080502 , 2.77258872, 2.83321334, 2.89037176, 2.94443898])"
      ]
     },
     "execution_count": 123,
     "metadata": {},
     "output_type": "execute_result"
    }
   ],
   "source": [
    "np.log(a)"
   ]
  },
  {
   "cell_type": "code",
   "execution_count": 124,
   "id": "4974fa80",
   "metadata": {},
   "outputs": [
    {
     "data": {
      "text/plain": [
       "array([ 0.        ,  0.84147098,  0.90929743,  0.14112001, -0.7568025 ,\n",
       "       -0.95892427, -0.2794155 ,  0.6569866 ,  0.98935825,  0.41211849,\n",
       "       -0.54402111, -0.99999021, -0.53657292,  0.42016704,  0.99060736,\n",
       "        0.65028784, -0.28790332, -0.96139749, -0.75098725,  0.14987721,\n",
       "        0.91294525,  0.83665564, -0.00885131, -0.8462204 , -0.90557836,\n",
       "       -0.13235175,  0.76255845,  0.95637593,  0.27090579, -0.66363388])"
      ]
     },
     "execution_count": 124,
     "metadata": {},
     "output_type": "execute_result"
    }
   ],
   "source": [
    "np.sin(b)"
   ]
  },
  {
   "cell_type": "code",
   "execution_count": 129,
   "id": "efc09c38",
   "metadata": {},
   "outputs": [
    {
     "data": {
      "text/plain": [
       "[array([False, False, False, False, False, False, False, False, False,\n",
       "        False, False,  True,  True,  True,  True,  True,  True,  True,\n",
       "         True,  True])]"
      ]
     },
     "execution_count": 129,
     "metadata": {},
     "output_type": "execute_result"
    }
   ],
   "source": [
    "[a>10]#return boll of each value of array a"
   ]
  },
  {
   "cell_type": "code",
   "execution_count": 130,
   "id": "33bda948",
   "metadata": {},
   "outputs": [
    {
     "data": {
      "text/plain": [
       "array([11, 12, 13, 14, 15, 16, 17, 18, 19])"
      ]
     },
     "execution_count": 130,
     "metadata": {},
     "output_type": "execute_result"
    }
   ],
   "source": [
    "a[a>10]# return only those value greater than 10"
   ]
  },
  {
   "cell_type": "markdown",
   "id": "54d6a718",
   "metadata": {},
   "source": [
    "-----------------------------------------"
   ]
  },
  {
   "cell_type": "markdown",
   "id": "f5e01c9d",
   "metadata": {},
   "source": [
    "------------------------------------------------"
   ]
  },
  {
   "cell_type": "markdown",
   "id": "a45afa59",
   "metadata": {},
   "source": [
    "# PANDAS\n",
    "Pandas is one of the most powerful data analysis and manipulation based inbuilt library inside python which supports all the data types unlike numpy which support only numeric data type.\n",
    "Pandas is very useful for performing Exploratory Data Analysis, Feature Enginerring, Data Preprocessing, data wrangling, and data visulizations.\n",
    "Like pandas it also create one and two dimensional vector and matrix and they are basically Series(Vector) and DataFrame(Matrix) respectively."
   ]
  },
  {
   "cell_type": "markdown",
   "id": "45e69605",
   "metadata": {},
   "source": [
    "## ONE DIMENSIONAL VECTOR-- PANDAS SERIES"
   ]
  },
  {
   "cell_type": "code",
   "execution_count": 147,
   "id": "11066d69",
   "metadata": {},
   "outputs": [
    {
     "data": {
      "text/plain": [
       "0    100\n",
       "1    102\n",
       "2    202\n",
       "3    304\n",
       "4    408\n",
       "5    507\n",
       "dtype: int32"
      ]
     },
     "execution_count": 147,
     "metadata": {},
     "output_type": "execute_result"
    }
   ],
   "source": [
    "s=pd.Series(np.array([100,102,202,304,408,507]),dtype=int)\n",
    "s"
   ]
  },
  {
   "cell_type": "code",
   "execution_count": 151,
   "id": "fe5f099e",
   "metadata": {},
   "outputs": [
    {
     "data": {
      "text/plain": [
       "0    a\n",
       "1    b\n",
       "2    c\n",
       "3    d\n",
       "dtype: object"
      ]
     },
     "execution_count": 151,
     "metadata": {},
     "output_type": "execute_result"
    }
   ],
   "source": [
    "s=pd.Series(np.array(['a','b','c','d']),dtype='O')\n",
    "s"
   ]
  },
  {
   "cell_type": "code",
   "execution_count": 152,
   "id": "7a9f6d60",
   "metadata": {},
   "outputs": [
    {
     "data": {
      "text/plain": [
       "dtype('O')"
      ]
     },
     "execution_count": 152,
     "metadata": {},
     "output_type": "execute_result"
    }
   ],
   "source": [
    "s.dtype"
   ]
  },
  {
   "cell_type": "code",
   "execution_count": 155,
   "id": "4eb5d40f",
   "metadata": {},
   "outputs": [
    {
     "data": {
      "text/plain": [
       "A    a\n",
       "B    b\n",
       "C    c\n",
       "D    d\n",
       "dtype: object"
      ]
     },
     "execution_count": 155,
     "metadata": {},
     "output_type": "execute_result"
    }
   ],
   "source": [
    "s=pd.Series(np.array(['a','b','c','d']),index=['A','B','C','D'],dtype='O')\n",
    "s"
   ]
  },
  {
   "cell_type": "code",
   "execution_count": 156,
   "id": "4a54de28",
   "metadata": {},
   "outputs": [
    {
     "data": {
      "text/plain": [
       "dtype('O')"
      ]
     },
     "execution_count": 156,
     "metadata": {},
     "output_type": "execute_result"
    }
   ],
   "source": [
    "s.dtype"
   ]
  },
  {
   "cell_type": "code",
   "execution_count": 157,
   "id": "a224ca00",
   "metadata": {},
   "outputs": [
    {
     "data": {
      "text/plain": [
       "4"
      ]
     },
     "execution_count": 157,
     "metadata": {},
     "output_type": "execute_result"
    }
   ],
   "source": [
    "s.size"
   ]
  },
  {
   "cell_type": "code",
   "execution_count": 158,
   "id": "054aaa86",
   "metadata": {},
   "outputs": [
    {
     "data": {
      "text/plain": [
       "1"
      ]
     },
     "execution_count": 158,
     "metadata": {},
     "output_type": "execute_result"
    }
   ],
   "source": [
    "s.ndim"
   ]
  },
  {
   "cell_type": "code",
   "execution_count": 159,
   "id": "0385012f",
   "metadata": {},
   "outputs": [
    {
     "data": {
      "text/plain": [
       "Index(['A', 'B', 'C', 'D'], dtype='object')"
      ]
     },
     "execution_count": 159,
     "metadata": {},
     "output_type": "execute_result"
    }
   ],
   "source": [
    "s.index"
   ]
  },
  {
   "cell_type": "code",
   "execution_count": 161,
   "id": "621e7a1d",
   "metadata": {},
   "outputs": [
    {
     "data": {
      "text/plain": [
       "'a'"
      ]
     },
     "execution_count": 161,
     "metadata": {},
     "output_type": "execute_result"
    }
   ],
   "source": [
    "s[0]"
   ]
  },
  {
   "cell_type": "code",
   "execution_count": 162,
   "id": "f8640570",
   "metadata": {},
   "outputs": [
    {
     "data": {
      "text/plain": [
       "A    a\n",
       "B    b\n",
       "C    c\n",
       "D    d\n",
       "dtype: object"
      ]
     },
     "execution_count": 162,
     "metadata": {},
     "output_type": "execute_result"
    }
   ],
   "source": [
    "s[0:]"
   ]
  },
  {
   "cell_type": "code",
   "execution_count": 165,
   "id": "2ac901c4",
   "metadata": {},
   "outputs": [
    {
     "data": {
      "text/plain": [
       "B    b\n",
       "C    c\n",
       "dtype: object"
      ]
     },
     "execution_count": 165,
     "metadata": {},
     "output_type": "execute_result"
    }
   ],
   "source": [
    "s[1:3]"
   ]
  },
  {
   "cell_type": "markdown",
   "id": "67bbf094",
   "metadata": {},
   "source": [
    "## TWO DIMENSIONAL VECTOR-- PANDAS DATAFRAME"
   ]
  },
  {
   "cell_type": "code",
   "execution_count": 171,
   "id": "6ba31cc7",
   "metadata": {},
   "outputs": [
    {
     "data": {
      "text/html": [
       "<div>\n",
       "<style scoped>\n",
       "    .dataframe tbody tr th:only-of-type {\n",
       "        vertical-align: middle;\n",
       "    }\n",
       "\n",
       "    .dataframe tbody tr th {\n",
       "        vertical-align: top;\n",
       "    }\n",
       "\n",
       "    .dataframe thead th {\n",
       "        text-align: right;\n",
       "    }\n",
       "</style>\n",
       "<table border=\"1\" class=\"dataframe\">\n",
       "  <thead>\n",
       "    <tr style=\"text-align: right;\">\n",
       "      <th></th>\n",
       "      <th>0</th>\n",
       "      <th>1</th>\n",
       "      <th>2</th>\n",
       "      <th>3</th>\n",
       "    </tr>\n",
       "  </thead>\n",
       "  <tbody>\n",
       "    <tr>\n",
       "      <th>0</th>\n",
       "      <td>1.0</td>\n",
       "      <td>2.0</td>\n",
       "      <td>3.0</td>\n",
       "      <td>4.0</td>\n",
       "    </tr>\n",
       "    <tr>\n",
       "      <th>1</th>\n",
       "      <td>6.0</td>\n",
       "      <td>7.0</td>\n",
       "      <td>8.0</td>\n",
       "      <td>9.0</td>\n",
       "    </tr>\n",
       "  </tbody>\n",
       "</table>\n",
       "</div>"
      ],
      "text/plain": [
       "     0    1    2    3\n",
       "0  1.0  2.0  3.0  4.0\n",
       "1  6.0  7.0  8.0  9.0"
      ]
     },
     "execution_count": 171,
     "metadata": {},
     "output_type": "execute_result"
    }
   ],
   "source": [
    "df=pd.DataFrame(np.array([[1,2,3,4],[6,7,8,9]]),dtype='float32')\n",
    "df"
   ]
  },
  {
   "cell_type": "code",
   "execution_count": 172,
   "id": "23bf0f14",
   "metadata": {},
   "outputs": [
    {
     "data": {
      "text/html": [
       "<div>\n",
       "<style scoped>\n",
       "    .dataframe tbody tr th:only-of-type {\n",
       "        vertical-align: middle;\n",
       "    }\n",
       "\n",
       "    .dataframe tbody tr th {\n",
       "        vertical-align: top;\n",
       "    }\n",
       "\n",
       "    .dataframe thead th {\n",
       "        text-align: right;\n",
       "    }\n",
       "</style>\n",
       "<table border=\"1\" class=\"dataframe\">\n",
       "  <thead>\n",
       "    <tr style=\"text-align: right;\">\n",
       "      <th></th>\n",
       "      <th>A</th>\n",
       "      <th>B</th>\n",
       "      <th>C</th>\n",
       "      <th>D</th>\n",
       "    </tr>\n",
       "  </thead>\n",
       "  <tbody>\n",
       "    <tr>\n",
       "      <th>0</th>\n",
       "      <td>1.0</td>\n",
       "      <td>2.0</td>\n",
       "      <td>3.0</td>\n",
       "      <td>4.0</td>\n",
       "    </tr>\n",
       "    <tr>\n",
       "      <th>1</th>\n",
       "      <td>6.0</td>\n",
       "      <td>7.0</td>\n",
       "      <td>8.0</td>\n",
       "      <td>9.0</td>\n",
       "    </tr>\n",
       "  </tbody>\n",
       "</table>\n",
       "</div>"
      ],
      "text/plain": [
       "     A    B    C    D\n",
       "0  1.0  2.0  3.0  4.0\n",
       "1  6.0  7.0  8.0  9.0"
      ]
     },
     "execution_count": 172,
     "metadata": {},
     "output_type": "execute_result"
    }
   ],
   "source": [
    "df=pd.DataFrame(np.array([[1,2,3,4],[6,7,8,9]]),columns=['A','B','C','D'],dtype='float32')\n",
    "df"
   ]
  },
  {
   "cell_type": "code",
   "execution_count": 183,
   "id": "82f11ba4",
   "metadata": {},
   "outputs": [
    {
     "data": {
      "text/html": [
       "<div>\n",
       "<style scoped>\n",
       "    .dataframe tbody tr th:only-of-type {\n",
       "        vertical-align: middle;\n",
       "    }\n",
       "\n",
       "    .dataframe tbody tr th {\n",
       "        vertical-align: top;\n",
       "    }\n",
       "\n",
       "    .dataframe thead th {\n",
       "        text-align: right;\n",
       "    }\n",
       "</style>\n",
       "<table border=\"1\" class=\"dataframe\">\n",
       "  <thead>\n",
       "    <tr style=\"text-align: right;\">\n",
       "      <th></th>\n",
       "      <th>A</th>\n",
       "      <th>B</th>\n",
       "      <th>C</th>\n",
       "      <th>D</th>\n",
       "    </tr>\n",
       "  </thead>\n",
       "  <tbody>\n",
       "    <tr>\n",
       "      <th>a</th>\n",
       "      <td>1.0</td>\n",
       "      <td>2.0</td>\n",
       "      <td>3.0</td>\n",
       "      <td>4.0</td>\n",
       "    </tr>\n",
       "    <tr>\n",
       "      <th>b</th>\n",
       "      <td>6.0</td>\n",
       "      <td>7.0</td>\n",
       "      <td>8.0</td>\n",
       "      <td>9.0</td>\n",
       "    </tr>\n",
       "  </tbody>\n",
       "</table>\n",
       "</div>"
      ],
      "text/plain": [
       "     A    B    C    D\n",
       "a  1.0  2.0  3.0  4.0\n",
       "b  6.0  7.0  8.0  9.0"
      ]
     },
     "execution_count": 183,
     "metadata": {},
     "output_type": "execute_result"
    }
   ],
   "source": [
    "df=pd.DataFrame(np.array([[1,2,3,4],[6,7,8,9]]),columns=['A','B','C','D'],index=['a','b'],dtype='float32')\n",
    "df#creating Dataframe using two dimensional array"
   ]
  },
  {
   "cell_type": "code",
   "execution_count": 184,
   "id": "f74b589b",
   "metadata": {},
   "outputs": [
    {
     "data": {
      "text/html": [
       "<div>\n",
       "<style scoped>\n",
       "    .dataframe tbody tr th:only-of-type {\n",
       "        vertical-align: middle;\n",
       "    }\n",
       "\n",
       "    .dataframe tbody tr th {\n",
       "        vertical-align: top;\n",
       "    }\n",
       "\n",
       "    .dataframe thead th {\n",
       "        text-align: right;\n",
       "    }\n",
       "</style>\n",
       "<table border=\"1\" class=\"dataframe\">\n",
       "  <thead>\n",
       "    <tr style=\"text-align: right;\">\n",
       "      <th></th>\n",
       "      <th>C1</th>\n",
       "      <th>C2</th>\n",
       "    </tr>\n",
       "  </thead>\n",
       "  <tbody>\n",
       "    <tr>\n",
       "      <th>0</th>\n",
       "      <td>100.000000</td>\n",
       "      <td>105.263161</td>\n",
       "    </tr>\n",
       "    <tr>\n",
       "      <th>1</th>\n",
       "      <td>110.526314</td>\n",
       "      <td>115.789474</td>\n",
       "    </tr>\n",
       "    <tr>\n",
       "      <th>2</th>\n",
       "      <td>121.052635</td>\n",
       "      <td>126.315788</td>\n",
       "    </tr>\n",
       "    <tr>\n",
       "      <th>3</th>\n",
       "      <td>131.578949</td>\n",
       "      <td>136.842102</td>\n",
       "    </tr>\n",
       "    <tr>\n",
       "      <th>4</th>\n",
       "      <td>142.105270</td>\n",
       "      <td>147.368423</td>\n",
       "    </tr>\n",
       "    <tr>\n",
       "      <th>5</th>\n",
       "      <td>152.631577</td>\n",
       "      <td>157.894730</td>\n",
       "    </tr>\n",
       "    <tr>\n",
       "      <th>6</th>\n",
       "      <td>163.157898</td>\n",
       "      <td>168.421051</td>\n",
       "    </tr>\n",
       "    <tr>\n",
       "      <th>7</th>\n",
       "      <td>173.684204</td>\n",
       "      <td>178.947372</td>\n",
       "    </tr>\n",
       "    <tr>\n",
       "      <th>8</th>\n",
       "      <td>184.210526</td>\n",
       "      <td>189.473679</td>\n",
       "    </tr>\n",
       "    <tr>\n",
       "      <th>9</th>\n",
       "      <td>194.736847</td>\n",
       "      <td>200.000000</td>\n",
       "    </tr>\n",
       "  </tbody>\n",
       "</table>\n",
       "</div>"
      ],
      "text/plain": [
       "           C1          C2\n",
       "0  100.000000  105.263161\n",
       "1  110.526314  115.789474\n",
       "2  121.052635  126.315788\n",
       "3  131.578949  136.842102\n",
       "4  142.105270  147.368423\n",
       "5  152.631577  157.894730\n",
       "6  163.157898  168.421051\n",
       "7  173.684204  178.947372\n",
       "8  184.210526  189.473679\n",
       "9  194.736847  200.000000"
      ]
     },
     "execution_count": 184,
     "metadata": {},
     "output_type": "execute_result"
    }
   ],
   "source": [
    "df=pd.DataFrame(np.linspace(100,200,20).reshape(10,2),columns=['C1','C2'],dtype='float32')\n",
    "df#creating Dataframe using linspace"
   ]
  },
  {
   "cell_type": "code",
   "execution_count": 185,
   "id": "5ffdd6e6",
   "metadata": {},
   "outputs": [
    {
     "data": {
      "text/html": [
       "<div>\n",
       "<style scoped>\n",
       "    .dataframe tbody tr th:only-of-type {\n",
       "        vertical-align: middle;\n",
       "    }\n",
       "\n",
       "    .dataframe tbody tr th {\n",
       "        vertical-align: top;\n",
       "    }\n",
       "\n",
       "    .dataframe thead th {\n",
       "        text-align: right;\n",
       "    }\n",
       "</style>\n",
       "<table border=\"1\" class=\"dataframe\">\n",
       "  <thead>\n",
       "    <tr style=\"text-align: right;\">\n",
       "      <th></th>\n",
       "      <th>V1</th>\n",
       "      <th>V2</th>\n",
       "      <th>V3</th>\n",
       "    </tr>\n",
       "  </thead>\n",
       "  <tbody>\n",
       "    <tr>\n",
       "      <th>0</th>\n",
       "      <td>1</td>\n",
       "      <td>A</td>\n",
       "      <td>10</td>\n",
       "    </tr>\n",
       "    <tr>\n",
       "      <th>1</th>\n",
       "      <td>2</td>\n",
       "      <td>B</td>\n",
       "      <td>STR</td>\n",
       "    </tr>\n",
       "    <tr>\n",
       "      <th>2</th>\n",
       "      <td>3</td>\n",
       "      <td>C</td>\n",
       "      <td>RAMU</td>\n",
       "    </tr>\n",
       "    <tr>\n",
       "      <th>3</th>\n",
       "      <td>4</td>\n",
       "      <td>D</td>\n",
       "      <td>DIWAKAR</td>\n",
       "    </tr>\n",
       "  </tbody>\n",
       "</table>\n",
       "</div>"
      ],
      "text/plain": [
       "   V1 V2       V3\n",
       "0   1  A       10\n",
       "1   2  B      STR\n",
       "2   3  C     RAMU\n",
       "3   4  D  DIWAKAR"
      ]
     },
     "execution_count": 185,
     "metadata": {},
     "output_type": "execute_result"
    }
   ],
   "source": [
    "df=pd.DataFrame({'V1':[1,2,3,4],'V2':['A','B','C','D'],'V3':(10,'STR','RAMU','DIWAKAR')})\n",
    "df#creating Dataframe using Dictionary"
   ]
  },
  {
   "cell_type": "markdown",
   "id": "35ef0bef",
   "metadata": {},
   "source": [
    "## INDEXING AND SLICING IN DATAFRAME"
   ]
  },
  {
   "cell_type": "code",
   "execution_count": 195,
   "id": "f567b8ef",
   "metadata": {},
   "outputs": [
    {
     "data": {
      "text/html": [
       "<div>\n",
       "<style scoped>\n",
       "    .dataframe tbody tr th:only-of-type {\n",
       "        vertical-align: middle;\n",
       "    }\n",
       "\n",
       "    .dataframe tbody tr th {\n",
       "        vertical-align: top;\n",
       "    }\n",
       "\n",
       "    .dataframe thead th {\n",
       "        text-align: right;\n",
       "    }\n",
       "</style>\n",
       "<table border=\"1\" class=\"dataframe\">\n",
       "  <thead>\n",
       "    <tr style=\"text-align: right;\">\n",
       "      <th></th>\n",
       "      <th>C1</th>\n",
       "      <th>C2</th>\n",
       "      <th>C3</th>\n",
       "      <th>C4</th>\n",
       "      <th>C5</th>\n",
       "    </tr>\n",
       "  </thead>\n",
       "  <tbody>\n",
       "    <tr>\n",
       "      <th>0</th>\n",
       "      <td>100.000000</td>\n",
       "      <td>105.263161</td>\n",
       "      <td>110.526314</td>\n",
       "      <td>115.789474</td>\n",
       "      <td>121.052635</td>\n",
       "    </tr>\n",
       "    <tr>\n",
       "      <th>1</th>\n",
       "      <td>126.315788</td>\n",
       "      <td>131.578949</td>\n",
       "      <td>136.842102</td>\n",
       "      <td>142.105270</td>\n",
       "      <td>147.368423</td>\n",
       "    </tr>\n",
       "    <tr>\n",
       "      <th>2</th>\n",
       "      <td>152.631577</td>\n",
       "      <td>157.894730</td>\n",
       "      <td>163.157898</td>\n",
       "      <td>168.421051</td>\n",
       "      <td>173.684204</td>\n",
       "    </tr>\n",
       "    <tr>\n",
       "      <th>3</th>\n",
       "      <td>178.947372</td>\n",
       "      <td>184.210526</td>\n",
       "      <td>189.473679</td>\n",
       "      <td>194.736847</td>\n",
       "      <td>200.000000</td>\n",
       "    </tr>\n",
       "  </tbody>\n",
       "</table>\n",
       "</div>"
      ],
      "text/plain": [
       "           C1          C2          C3          C4          C5\n",
       "0  100.000000  105.263161  110.526314  115.789474  121.052635\n",
       "1  126.315788  131.578949  136.842102  142.105270  147.368423\n",
       "2  152.631577  157.894730  163.157898  168.421051  173.684204\n",
       "3  178.947372  184.210526  189.473679  194.736847  200.000000"
      ]
     },
     "execution_count": 195,
     "metadata": {},
     "output_type": "execute_result"
    }
   ],
   "source": [
    "df=pd.DataFrame(np.linspace(100,200,20).reshape(4,5),columns=['C1','C2','C3','C4','C5'],dtype='float32')\n",
    "df#creating Dataframe using linspace"
   ]
  },
  {
   "cell_type": "code",
   "execution_count": 196,
   "id": "cd6d86a6",
   "metadata": {},
   "outputs": [
    {
     "data": {
      "text/html": [
       "<div>\n",
       "<style scoped>\n",
       "    .dataframe tbody tr th:only-of-type {\n",
       "        vertical-align: middle;\n",
       "    }\n",
       "\n",
       "    .dataframe tbody tr th {\n",
       "        vertical-align: top;\n",
       "    }\n",
       "\n",
       "    .dataframe thead th {\n",
       "        text-align: right;\n",
       "    }\n",
       "</style>\n",
       "<table border=\"1\" class=\"dataframe\">\n",
       "  <thead>\n",
       "    <tr style=\"text-align: right;\">\n",
       "      <th></th>\n",
       "      <th>C3</th>\n",
       "      <th>C4</th>\n",
       "      <th>C5</th>\n",
       "    </tr>\n",
       "  </thead>\n",
       "  <tbody>\n",
       "    <tr>\n",
       "      <th>2</th>\n",
       "      <td>163.157898</td>\n",
       "      <td>168.421051</td>\n",
       "      <td>173.684204</td>\n",
       "    </tr>\n",
       "    <tr>\n",
       "      <th>3</th>\n",
       "      <td>189.473679</td>\n",
       "      <td>194.736847</td>\n",
       "      <td>200.000000</td>\n",
       "    </tr>\n",
       "  </tbody>\n",
       "</table>\n",
       "</div>"
      ],
      "text/plain": [
       "           C3          C4          C5\n",
       "2  163.157898  168.421051  173.684204\n",
       "3  189.473679  194.736847  200.000000"
      ]
     },
     "execution_count": 196,
     "metadata": {},
     "output_type": "execute_result"
    }
   ],
   "source": [
    "df.iloc[2:,2:]"
   ]
  },
  {
   "cell_type": "code",
   "execution_count": 197,
   "id": "af454522",
   "metadata": {},
   "outputs": [
    {
     "data": {
      "text/plain": [
       "136.8421"
      ]
     },
     "execution_count": 197,
     "metadata": {},
     "output_type": "execute_result"
    }
   ],
   "source": [
    "df.iloc[1][2]"
   ]
  },
  {
   "cell_type": "code",
   "execution_count": 198,
   "id": "26155779",
   "metadata": {},
   "outputs": [
    {
     "data": {
      "text/plain": [
       "152.63158"
      ]
     },
     "execution_count": 198,
     "metadata": {},
     "output_type": "execute_result"
    }
   ],
   "source": [
    "df.iloc[2,0]"
   ]
  },
  {
   "cell_type": "code",
   "execution_count": 199,
   "id": "b68f6fff",
   "metadata": {},
   "outputs": [
    {
     "data": {
      "text/html": [
       "<div>\n",
       "<style scoped>\n",
       "    .dataframe tbody tr th:only-of-type {\n",
       "        vertical-align: middle;\n",
       "    }\n",
       "\n",
       "    .dataframe tbody tr th {\n",
       "        vertical-align: top;\n",
       "    }\n",
       "\n",
       "    .dataframe thead th {\n",
       "        text-align: right;\n",
       "    }\n",
       "</style>\n",
       "<table border=\"1\" class=\"dataframe\">\n",
       "  <thead>\n",
       "    <tr style=\"text-align: right;\">\n",
       "      <th></th>\n",
       "      <th>C1</th>\n",
       "      <th>C2</th>\n",
       "      <th>C3</th>\n",
       "      <th>C4</th>\n",
       "      <th>C5</th>\n",
       "    </tr>\n",
       "  </thead>\n",
       "  <tbody>\n",
       "    <tr>\n",
       "      <th>0</th>\n",
       "      <td>False</td>\n",
       "      <td>False</td>\n",
       "      <td>False</td>\n",
       "      <td>False</td>\n",
       "      <td>False</td>\n",
       "    </tr>\n",
       "    <tr>\n",
       "      <th>1</th>\n",
       "      <td>False</td>\n",
       "      <td>False</td>\n",
       "      <td>False</td>\n",
       "      <td>False</td>\n",
       "      <td>False</td>\n",
       "    </tr>\n",
       "    <tr>\n",
       "      <th>2</th>\n",
       "      <td>False</td>\n",
       "      <td>False</td>\n",
       "      <td>True</td>\n",
       "      <td>True</td>\n",
       "      <td>True</td>\n",
       "    </tr>\n",
       "    <tr>\n",
       "      <th>3</th>\n",
       "      <td>True</td>\n",
       "      <td>True</td>\n",
       "      <td>True</td>\n",
       "      <td>True</td>\n",
       "      <td>True</td>\n",
       "    </tr>\n",
       "  </tbody>\n",
       "</table>\n",
       "</div>"
      ],
      "text/plain": [
       "      C1     C2     C3     C4     C5\n",
       "0  False  False  False  False  False\n",
       "1  False  False  False  False  False\n",
       "2  False  False   True   True   True\n",
       "3   True   True   True   True   True"
      ]
     },
     "execution_count": 199,
     "metadata": {},
     "output_type": "execute_result"
    }
   ],
   "source": [
    "df>160"
   ]
  },
  {
   "cell_type": "code",
   "execution_count": 200,
   "id": "f43e0ab6",
   "metadata": {},
   "outputs": [
    {
     "data": {
      "text/html": [
       "<div>\n",
       "<style scoped>\n",
       "    .dataframe tbody tr th:only-of-type {\n",
       "        vertical-align: middle;\n",
       "    }\n",
       "\n",
       "    .dataframe tbody tr th {\n",
       "        vertical-align: top;\n",
       "    }\n",
       "\n",
       "    .dataframe thead th {\n",
       "        text-align: right;\n",
       "    }\n",
       "</style>\n",
       "<table border=\"1\" class=\"dataframe\">\n",
       "  <thead>\n",
       "    <tr style=\"text-align: right;\">\n",
       "      <th></th>\n",
       "      <th>C1</th>\n",
       "      <th>C2</th>\n",
       "      <th>C3</th>\n",
       "      <th>C4</th>\n",
       "      <th>C5</th>\n",
       "    </tr>\n",
       "  </thead>\n",
       "  <tbody>\n",
       "    <tr>\n",
       "      <th>0</th>\n",
       "      <td>NaN</td>\n",
       "      <td>NaN</td>\n",
       "      <td>NaN</td>\n",
       "      <td>NaN</td>\n",
       "      <td>NaN</td>\n",
       "    </tr>\n",
       "    <tr>\n",
       "      <th>1</th>\n",
       "      <td>NaN</td>\n",
       "      <td>NaN</td>\n",
       "      <td>NaN</td>\n",
       "      <td>NaN</td>\n",
       "      <td>NaN</td>\n",
       "    </tr>\n",
       "    <tr>\n",
       "      <th>2</th>\n",
       "      <td>NaN</td>\n",
       "      <td>NaN</td>\n",
       "      <td>163.157898</td>\n",
       "      <td>168.421051</td>\n",
       "      <td>173.684204</td>\n",
       "    </tr>\n",
       "    <tr>\n",
       "      <th>3</th>\n",
       "      <td>178.947372</td>\n",
       "      <td>184.210526</td>\n",
       "      <td>189.473679</td>\n",
       "      <td>194.736847</td>\n",
       "      <td>200.000000</td>\n",
       "    </tr>\n",
       "  </tbody>\n",
       "</table>\n",
       "</div>"
      ],
      "text/plain": [
       "           C1          C2          C3          C4          C5\n",
       "0         NaN         NaN         NaN         NaN         NaN\n",
       "1         NaN         NaN         NaN         NaN         NaN\n",
       "2         NaN         NaN  163.157898  168.421051  173.684204\n",
       "3  178.947372  184.210526  189.473679  194.736847  200.000000"
      ]
     },
     "execution_count": 200,
     "metadata": {},
     "output_type": "execute_result"
    }
   ],
   "source": [
    "df[df>160]"
   ]
  },
  {
   "cell_type": "code",
   "execution_count": 202,
   "id": "1755168f",
   "metadata": {},
   "outputs": [
    {
     "data": {
      "text/plain": [
       "((4, 5), 4, 5)"
      ]
     },
     "execution_count": 202,
     "metadata": {},
     "output_type": "execute_result"
    }
   ],
   "source": [
    "df.shape,df.shape[0],df.shape[1]"
   ]
  },
  {
   "cell_type": "code",
   "execution_count": 203,
   "id": "32814a56",
   "metadata": {},
   "outputs": [
    {
     "data": {
      "text/plain": [
       "C1    float32\n",
       "C2    float32\n",
       "C3    float32\n",
       "C4    float32\n",
       "C5    float32\n",
       "dtype: object"
      ]
     },
     "execution_count": 203,
     "metadata": {},
     "output_type": "execute_result"
    }
   ],
   "source": [
    "df.dtypes"
   ]
  },
  {
   "cell_type": "code",
   "execution_count": 204,
   "id": "7a92c56f",
   "metadata": {},
   "outputs": [
    {
     "name": "stdout",
     "output_type": "stream",
     "text": [
      "<class 'pandas.core.frame.DataFrame'>\n",
      "RangeIndex: 4 entries, 0 to 3\n",
      "Data columns (total 5 columns):\n",
      " #   Column  Non-Null Count  Dtype  \n",
      "---  ------  --------------  -----  \n",
      " 0   C1      4 non-null      float32\n",
      " 1   C2      4 non-null      float32\n",
      " 2   C3      4 non-null      float32\n",
      " 3   C4      4 non-null      float32\n",
      " 4   C5      4 non-null      float32\n",
      "dtypes: float32(5)\n",
      "memory usage: 208.0 bytes\n"
     ]
    }
   ],
   "source": [
    "df.info()"
   ]
  },
  {
   "cell_type": "code",
   "execution_count": 205,
   "id": "ea7db838",
   "metadata": {},
   "outputs": [
    {
     "data": {
      "text/plain": [
       "20"
      ]
     },
     "execution_count": 205,
     "metadata": {},
     "output_type": "execute_result"
    }
   ],
   "source": [
    "df.size"
   ]
  },
  {
   "cell_type": "code",
   "execution_count": 206,
   "id": "7738080a",
   "metadata": {},
   "outputs": [
    {
     "data": {
      "text/plain": [
       "2"
      ]
     },
     "execution_count": 206,
     "metadata": {},
     "output_type": "execute_result"
    }
   ],
   "source": [
    "df.ndim"
   ]
  },
  {
   "cell_type": "code",
   "execution_count": 207,
   "id": "dd5ab9cd",
   "metadata": {},
   "outputs": [
    {
     "data": {
      "text/plain": [
       "Index(['C1', 'C2', 'C3', 'C4', 'C5'], dtype='object')"
      ]
     },
     "execution_count": 207,
     "metadata": {},
     "output_type": "execute_result"
    }
   ],
   "source": [
    "df.columns"
   ]
  },
  {
   "cell_type": "code",
   "execution_count": 208,
   "id": "8ad88fe9",
   "metadata": {},
   "outputs": [
    {
     "data": {
      "text/plain": [
       "RangeIndex(start=0, stop=4, step=1)"
      ]
     },
     "execution_count": 208,
     "metadata": {},
     "output_type": "execute_result"
    }
   ],
   "source": [
    "df.index"
   ]
  },
  {
   "cell_type": "code",
   "execution_count": 209,
   "id": "8fdffdd4",
   "metadata": {},
   "outputs": [
    {
     "data": {
      "text/plain": [
       "dtype('float32')"
      ]
     },
     "execution_count": 209,
     "metadata": {},
     "output_type": "execute_result"
    }
   ],
   "source": [
    "df.C1.dtype"
   ]
  },
  {
   "cell_type": "markdown",
   "id": "ad6e0420",
   "metadata": {},
   "source": [
    "## CHANGING THE COLUMNS NAME AND RESETING THE INDEX"
   ]
  },
  {
   "cell_type": "code",
   "execution_count": 213,
   "id": "2ed55346",
   "metadata": {},
   "outputs": [
    {
     "data": {
      "text/html": [
       "<div>\n",
       "<style scoped>\n",
       "    .dataframe tbody tr th:only-of-type {\n",
       "        vertical-align: middle;\n",
       "    }\n",
       "\n",
       "    .dataframe tbody tr th {\n",
       "        vertical-align: top;\n",
       "    }\n",
       "\n",
       "    .dataframe thead th {\n",
       "        text-align: right;\n",
       "    }\n",
       "</style>\n",
       "<table border=\"1\" class=\"dataframe\">\n",
       "  <thead>\n",
       "    <tr style=\"text-align: right;\">\n",
       "      <th></th>\n",
       "      <th>C2</th>\n",
       "      <th>C3</th>\n",
       "      <th>C4</th>\n",
       "      <th>C5</th>\n",
       "    </tr>\n",
       "    <tr>\n",
       "      <th>C1</th>\n",
       "      <th></th>\n",
       "      <th></th>\n",
       "      <th></th>\n",
       "      <th></th>\n",
       "    </tr>\n",
       "  </thead>\n",
       "  <tbody>\n",
       "    <tr>\n",
       "      <th>100.000000</th>\n",
       "      <td>105.263161</td>\n",
       "      <td>110.526314</td>\n",
       "      <td>115.789474</td>\n",
       "      <td>121.052635</td>\n",
       "    </tr>\n",
       "    <tr>\n",
       "      <th>126.315788</th>\n",
       "      <td>131.578949</td>\n",
       "      <td>136.842102</td>\n",
       "      <td>142.105270</td>\n",
       "      <td>147.368423</td>\n",
       "    </tr>\n",
       "    <tr>\n",
       "      <th>152.631577</th>\n",
       "      <td>157.894730</td>\n",
       "      <td>163.157898</td>\n",
       "      <td>168.421051</td>\n",
       "      <td>173.684204</td>\n",
       "    </tr>\n",
       "    <tr>\n",
       "      <th>178.947372</th>\n",
       "      <td>184.210526</td>\n",
       "      <td>189.473679</td>\n",
       "      <td>194.736847</td>\n",
       "      <td>200.000000</td>\n",
       "    </tr>\n",
       "  </tbody>\n",
       "</table>\n",
       "</div>"
      ],
      "text/plain": [
       "                    C2          C3          C4          C5\n",
       "C1                                                        \n",
       "100.000000  105.263161  110.526314  115.789474  121.052635\n",
       "126.315788  131.578949  136.842102  142.105270  147.368423\n",
       "152.631577  157.894730  163.157898  168.421051  173.684204\n",
       "178.947372  184.210526  189.473679  194.736847  200.000000"
      ]
     },
     "execution_count": 213,
     "metadata": {},
     "output_type": "execute_result"
    }
   ],
   "source": [
    "df1=df.set_index('C1')\n",
    "df1"
   ]
  },
  {
   "cell_type": "code",
   "execution_count": 218,
   "id": "295f7a5c",
   "metadata": {},
   "outputs": [
    {
     "data": {
      "text/html": [
       "<div>\n",
       "<style scoped>\n",
       "    .dataframe tbody tr th:only-of-type {\n",
       "        vertical-align: middle;\n",
       "    }\n",
       "\n",
       "    .dataframe tbody tr th {\n",
       "        vertical-align: top;\n",
       "    }\n",
       "\n",
       "    .dataframe thead th {\n",
       "        text-align: right;\n",
       "    }\n",
       "</style>\n",
       "<table border=\"1\" class=\"dataframe\">\n",
       "  <thead>\n",
       "    <tr style=\"text-align: right;\">\n",
       "      <th></th>\n",
       "      <th>E2</th>\n",
       "      <th>C3</th>\n",
       "      <th>C4</th>\n",
       "      <th>C5</th>\n",
       "    </tr>\n",
       "    <tr>\n",
       "      <th>C1</th>\n",
       "      <th></th>\n",
       "      <th></th>\n",
       "      <th></th>\n",
       "      <th></th>\n",
       "    </tr>\n",
       "  </thead>\n",
       "  <tbody>\n",
       "    <tr>\n",
       "      <th>100.000000</th>\n",
       "      <td>105.263161</td>\n",
       "      <td>110.526314</td>\n",
       "      <td>115.789474</td>\n",
       "      <td>121.052635</td>\n",
       "    </tr>\n",
       "    <tr>\n",
       "      <th>126.315788</th>\n",
       "      <td>131.578949</td>\n",
       "      <td>136.842102</td>\n",
       "      <td>142.105270</td>\n",
       "      <td>147.368423</td>\n",
       "    </tr>\n",
       "    <tr>\n",
       "      <th>152.631577</th>\n",
       "      <td>157.894730</td>\n",
       "      <td>163.157898</td>\n",
       "      <td>168.421051</td>\n",
       "      <td>173.684204</td>\n",
       "    </tr>\n",
       "    <tr>\n",
       "      <th>178.947372</th>\n",
       "      <td>184.210526</td>\n",
       "      <td>189.473679</td>\n",
       "      <td>194.736847</td>\n",
       "      <td>200.000000</td>\n",
       "    </tr>\n",
       "  </tbody>\n",
       "</table>\n",
       "</div>"
      ],
      "text/plain": [
       "                    E2          C3          C4          C5\n",
       "C1                                                        \n",
       "100.000000  105.263161  110.526314  115.789474  121.052635\n",
       "126.315788  131.578949  136.842102  142.105270  147.368423\n",
       "152.631577  157.894730  163.157898  168.421051  173.684204\n",
       "178.947372  184.210526  189.473679  194.736847  200.000000"
      ]
     },
     "execution_count": 218,
     "metadata": {},
     "output_type": "execute_result"
    }
   ],
   "source": [
    "df2=df1.rename(columns={'C2':'E2'})\n",
    "df2"
   ]
  },
  {
   "cell_type": "markdown",
   "id": "0e67a17f",
   "metadata": {},
   "source": [
    "## DATA VISUALIZATION"
   ]
  },
  {
   "cell_type": "code",
   "execution_count": 219,
   "id": "827ca4e4",
   "metadata": {},
   "outputs": [
    {
     "data": {
      "text/plain": [
       "<AxesSubplot:>"
      ]
     },
     "execution_count": 219,
     "metadata": {},
     "output_type": "execute_result"
    },
    {
     "data": {
      "image/png": "[encoded data removed]",
      "text/plain": [
       "<Figure size 432x288 with 1 Axes>"
      ]
     },
     "metadata": {
      "needs_background": "light"
     },
     "output_type": "display_data"
    }
   ],
   "source": [
    "df.plot(kind='box')"
   ]
  },
  {
   "cell_type": "code",
   "execution_count": 220,
   "id": "2faed7dc",
   "metadata": {},
   "outputs": [
    {
     "data": {
      "text/plain": [
       "<AxesSubplot:>"
      ]
     },
     "execution_count": 220,
     "metadata": {},
     "output_type": "execute_result"
    },
    {
     "data": {
      "image/png": "[encoded data removed]",
      "text/plain": [
       "<Figure size 432x288 with 1 Axes>"
      ]
     },
     "metadata": {
      "needs_background": "light"
     },
     "output_type": "display_data"
    }
   ],
   "source": [
    "df.plot(kind='bar')"
   ]
  },
  {
   "cell_type": "code",
   "execution_count": 221,
   "id": "6a05cef1",
   "metadata": {},
   "outputs": [
    {
     "data": {
      "text/plain": [
       "<AxesSubplot:>"
      ]
     },
     "execution_count": 221,
     "metadata": {},
     "output_type": "execute_result"
    },
    {
     "data": {
      "image/png": "[encoded data removed]",
      "text/plain": [
       "<Figure size 432x288 with 1 Axes>"
      ]
     },
     "metadata": {
      "needs_background": "light"
     },
     "output_type": "display_data"
    }
   ],
   "source": [
    "df.plot(kind='area')"
   ]
  },
  {
   "cell_type": "code",
   "execution_count": 222,
   "id": "6314c976",
   "metadata": {},
   "outputs": [
    {
     "data": {
      "text/plain": [
       "<AxesSubplot:ylabel='Frequency'>"
      ]
     },
     "execution_count": 222,
     "metadata": {},
     "output_type": "execute_result"
    },
    {
     "data": {
      "image/png": "[encoded data removed]",
      "text/plain": [
       "<Figure size 432x288 with 1 Axes>"
      ]
     },
     "metadata": {
      "needs_background": "light"
     },
     "output_type": "display_data"
    }
   ],
   "source": [
    "df.plot(kind='hist')"
   ]
  },
  {
   "cell_type": "code",
   "execution_count": 231,
   "id": "f929a954",
   "metadata": {},
   "outputs": [
    {
     "data": {
      "text/plain": [
       "<AxesSubplot:xlabel='C1', ylabel='C2'>"
      ]
     },
     "execution_count": 231,
     "metadata": {},
     "output_type": "execute_result"
    },
    {
     "data": {
      "image/png": "[encoded data removed]",
      "text/plain": [
       "<Figure size 432x288 with 1 Axes>"
      ]
     },
     "metadata": {
      "needs_background": "light"
     },
     "output_type": "display_data"
    }
   ],
   "source": [
    "df.plot.scatter('C1','C2')"
   ]
  },
  {
   "cell_type": "code",
   "execution_count": null,
   "id": "41aed12a",
   "metadata": {},
   "outputs": [],
   "source": []
  },
  {
   "cell_type": "code",
   "execution_count": null,
   "id": "977f5e44",
   "metadata": {},
   "outputs": [],
   "source": []
  },
  {
   "cell_type": "code",
   "execution_count": null,
   "id": "712e1c4b",
   "metadata": {},
   "outputs": [],
   "source": []
  },
  {
   "cell_type": "code",
   "execution_count": null,
   "id": "67393bc7",
   "metadata": {},
   "outputs": [],
   "source": []
  },
  {
   "cell_type": "code",
   "execution_count": null,
   "id": "fe7b9424",
   "metadata": {},
   "outputs": [],
   "source": []
  },
  {
   "cell_type": "code",
   "execution_count": null,
   "id": "2b8a7f62",
   "metadata": {},
   "outputs": [],
   "source": []
  },
  {
   "cell_type": "markdown",
   "id": "917ed420",
   "metadata": {},
   "source": [
    "------------------------------------------------"
   ]
  },
  {
   "cell_type": "markdown",
   "id": "d815d35c",
   "metadata": {},
   "source": [
    "------------------------------------------------"
   ]
  },
  {
   "cell_type": "markdown",
   "id": "6d6a1c79",
   "metadata": {},
   "source": [
    "------------------------------------------------"
   ]
  }
 ],
 "metadata": {
  "kernelspec": {
   "display_name": "Python 3 (ipykernel)",
   "language": "python",
   "name": "python3"
  },
  "language_info": {
   "codemirror_mode": {
    "name": "ipython",
    "version": 3
   },
   "file_extension": ".py",
   "mimetype": "text/x-python",
   "name": "python",
   "nbconvert_exporter": "python",
   "pygments_lexer": "ipython3",
   "version": "3.9.7"
  }
 },
 "nbformat": 4,
 "nbformat_minor": 5
}
