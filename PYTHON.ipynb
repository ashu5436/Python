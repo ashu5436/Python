{
 "cells": [
  {
   "cell_type": "markdown",
   "id": "fd4bbd77",
   "metadata": {},
   "source": [
    "# BOOL"
   ]
  },
  {
   "cell_type": "code",
   "execution_count": 2,
   "id": "6deefd1c",
   "metadata": {},
   "outputs": [
    {
     "data": {
      "text/plain": [
       "False"
      ]
     },
     "execution_count": 2,
     "metadata": {},
     "output_type": "execute_result"
    }
   ],
   "source": [
    "1==2"
   ]
  },
  {
   "cell_type": "code",
   "execution_count": 3,
   "id": "c7023335",
   "metadata": {},
   "outputs": [
    {
     "data": {
      "text/plain": [
       "True"
      ]
     },
     "execution_count": 3,
     "metadata": {},
     "output_type": "execute_result"
    }
   ],
   "source": [
    "1!=2"
   ]
  },
  {
   "cell_type": "code",
   "execution_count": 4,
   "id": "55bda4ff",
   "metadata": {},
   "outputs": [
    {
     "data": {
      "text/plain": [
       "False"
      ]
     },
     "execution_count": 4,
     "metadata": {},
     "output_type": "execute_result"
    }
   ],
   "source": [
    "1>2"
   ]
  },
  {
   "cell_type": "code",
   "execution_count": 5,
   "id": "16909dcf",
   "metadata": {},
   "outputs": [
    {
     "data": {
      "text/plain": [
       "True"
      ]
     },
     "execution_count": 5,
     "metadata": {},
     "output_type": "execute_result"
    }
   ],
   "source": [
    "1<2"
   ]
  },
  {
   "cell_type": "code",
   "execution_count": 9,
   "id": "649c7751",
   "metadata": {},
   "outputs": [
    {
     "data": {
      "text/plain": [
       "True"
      ]
     },
     "execution_count": 9,
     "metadata": {},
     "output_type": "execute_result"
    }
   ],
   "source": [
    "1>(-1)"
   ]
  },
  {
   "cell_type": "code",
   "execution_count": 10,
   "id": "82b1cd29",
   "metadata": {},
   "outputs": [
    {
     "data": {
      "text/plain": [
       "int"
      ]
     },
     "execution_count": 10,
     "metadata": {},
     "output_type": "execute_result"
    }
   ],
   "source": [
    "type(1)"
   ]
  },
  {
   "cell_type": "code",
   "execution_count": 11,
   "id": "dc70cf81",
   "metadata": {},
   "outputs": [
    {
     "data": {
      "text/plain": [
       "float"
      ]
     },
     "execution_count": 11,
     "metadata": {},
     "output_type": "execute_result"
    }
   ],
   "source": [
    "type(0.1)"
   ]
  },
  {
   "cell_type": "code",
   "execution_count": 12,
   "id": "f05da6fc",
   "metadata": {},
   "outputs": [
    {
     "data": {
      "text/plain": [
       "bool"
      ]
     },
     "execution_count": 12,
     "metadata": {},
     "output_type": "execute_result"
    }
   ],
   "source": [
    "type(1==2)"
   ]
  },
  {
   "cell_type": "markdown",
   "id": "5ef13136",
   "metadata": {},
   "source": [
    "# DATE TIME"
   ]
  },
  {
   "cell_type": "code",
   "execution_count": 17,
   "id": "3a665d07",
   "metadata": {},
   "outputs": [
    {
     "data": {
      "text/plain": [
       "datetime.datetime(2023, 4, 21, 23, 56, 19, 980007)"
      ]
     },
     "execution_count": 17,
     "metadata": {},
     "output_type": "execute_result"
    }
   ],
   "source": [
    "a=datetime.datetime.now()\n",
    "a"
   ]
  },
  {
   "cell_type": "code",
   "execution_count": 19,
   "id": "b888d598",
   "metadata": {},
   "outputs": [
    {
     "data": {
      "text/plain": [
       "datetime.datetime"
      ]
     },
     "execution_count": 19,
     "metadata": {},
     "output_type": "execute_result"
    }
   ],
   "source": [
    "import datetime\n",
    "a=datetime.datetime.now()\n",
    "type(a)"
   ]
  },
  {
   "cell_type": "code",
   "execution_count": 20,
   "id": "bef9f131",
   "metadata": {},
   "outputs": [
    {
     "data": {
      "text/plain": [
       "str"
      ]
     },
     "execution_count": 20,
     "metadata": {},
     "output_type": "execute_result"
    }
   ],
   "source": [
    "type('str')"
   ]
  },
  {
   "cell_type": "code",
   "execution_count": 22,
   "id": "0749c9ed",
   "metadata": {},
   "outputs": [
    {
     "data": {
      "text/plain": [
       "str"
      ]
     },
     "execution_count": 22,
     "metadata": {},
     "output_type": "execute_result"
    }
   ],
   "source": [
    "type('1z12s')"
   ]
  },
  {
   "cell_type": "markdown",
   "id": "734054d7",
   "metadata": {},
   "source": [
    "# LIST--MUTABLE"
   ]
  },
  {
   "cell_type": "code",
   "execution_count": 23,
   "id": "1c6e31a8",
   "metadata": {},
   "outputs": [
    {
     "data": {
      "text/plain": [
       "list"
      ]
     },
     "execution_count": 23,
     "metadata": {},
     "output_type": "execute_result"
    }
   ],
   "source": [
    "l=[1,2,3,4,5,6]\n",
    "type(l)"
   ]
  },
  {
   "cell_type": "code",
   "execution_count": 24,
   "id": "95b668e4",
   "metadata": {},
   "outputs": [],
   "source": [
    "#mutable=list\n",
    "l.append(10)"
   ]
  },
  {
   "cell_type": "code",
   "execution_count": 25,
   "id": "456a872a",
   "metadata": {},
   "outputs": [
    {
     "data": {
      "text/plain": [
       "[1, 2, 3, 4, 5, 6, 10]"
      ]
     },
     "execution_count": 25,
     "metadata": {},
     "output_type": "execute_result"
    }
   ],
   "source": [
    "l"
   ]
  },
  {
   "cell_type": "code",
   "execution_count": 26,
   "id": "05062af4",
   "metadata": {},
   "outputs": [],
   "source": [
    "l.reverse()"
   ]
  },
  {
   "cell_type": "code",
   "execution_count": 27,
   "id": "6c5094ad",
   "metadata": {},
   "outputs": [
    {
     "data": {
      "text/plain": [
       "[10, 6, 5, 4, 3, 2, 1]"
      ]
     },
     "execution_count": 27,
     "metadata": {},
     "output_type": "execute_result"
    }
   ],
   "source": [
    "l"
   ]
  },
  {
   "cell_type": "code",
   "execution_count": 28,
   "id": "3610cf88",
   "metadata": {},
   "outputs": [
    {
     "data": {
      "text/plain": [
       "1"
      ]
     },
     "execution_count": 28,
     "metadata": {},
     "output_type": "execute_result"
    }
   ],
   "source": [
    "l.pop()"
   ]
  },
  {
   "cell_type": "code",
   "execution_count": 29,
   "id": "c86e9a0b",
   "metadata": {},
   "outputs": [
    {
     "data": {
      "text/plain": [
       "[10, 6, 5, 4, 3, 2]"
      ]
     },
     "execution_count": 29,
     "metadata": {},
     "output_type": "execute_result"
    }
   ],
   "source": [
    "l"
   ]
  },
  {
   "cell_type": "code",
   "execution_count": 30,
   "id": "81303db9",
   "metadata": {},
   "outputs": [
    {
     "data": {
      "text/plain": [
       "5"
      ]
     },
     "execution_count": 30,
     "metadata": {},
     "output_type": "execute_result"
    }
   ],
   "source": [
    "l.pop(2)"
   ]
  },
  {
   "cell_type": "code",
   "execution_count": 31,
   "id": "23360c59",
   "metadata": {},
   "outputs": [
    {
     "data": {
      "text/plain": [
       "[10, 6, 4, 3, 2]"
      ]
     },
     "execution_count": 31,
     "metadata": {},
     "output_type": "execute_result"
    }
   ],
   "source": [
    "l"
   ]
  },
  {
   "cell_type": "code",
   "execution_count": 34,
   "id": "8d2cf678",
   "metadata": {},
   "outputs": [],
   "source": [
    "import random\n",
    "from random import shuffle\n",
    "shuffle(l)"
   ]
  },
  {
   "cell_type": "code",
   "execution_count": 35,
   "id": "c5b946ff",
   "metadata": {},
   "outputs": [
    {
     "data": {
      "text/plain": [
       "[2, 10, 4, 6, 3]"
      ]
     },
     "execution_count": 35,
     "metadata": {},
     "output_type": "execute_result"
    }
   ],
   "source": [
    "l"
   ]
  },
  {
   "cell_type": "code",
   "execution_count": 40,
   "id": "2bd9ef33",
   "metadata": {},
   "outputs": [],
   "source": [
    "l.extend([1,2,3,4,5,5,6])"
   ]
  },
  {
   "cell_type": "code",
   "execution_count": 41,
   "id": "2ec0d8c7",
   "metadata": {},
   "outputs": [
    {
     "data": {
      "text/plain": [
       "[2, 10, 4, 6, 3, 1, 2, 3, 4, 5, 5, 6]"
      ]
     },
     "execution_count": 41,
     "metadata": {},
     "output_type": "execute_result"
    }
   ],
   "source": [
    "l"
   ]
  },
  {
   "cell_type": "code",
   "execution_count": 42,
   "id": "485f3217",
   "metadata": {},
   "outputs": [],
   "source": [
    "l.sort()"
   ]
  },
  {
   "cell_type": "code",
   "execution_count": 43,
   "id": "1955a121",
   "metadata": {},
   "outputs": [
    {
     "data": {
      "text/plain": [
       "[1, 2, 2, 3, 3, 4, 4, 5, 5, 6, 6, 10]"
      ]
     },
     "execution_count": 43,
     "metadata": {},
     "output_type": "execute_result"
    }
   ],
   "source": [
    "l"
   ]
  },
  {
   "cell_type": "code",
   "execution_count": 45,
   "id": "dabd179b",
   "metadata": {},
   "outputs": [
    {
     "data": {
      "text/plain": [
       "[2, 2, 3, 3, 4, 4, 5, 5, 6, 6, 10]"
      ]
     },
     "execution_count": 45,
     "metadata": {},
     "output_type": "execute_result"
    }
   ],
   "source": [
    "l.remove(1)\n",
    "l"
   ]
  },
  {
   "cell_type": "code",
   "execution_count": 48,
   "id": "2103391c",
   "metadata": {},
   "outputs": [
    {
     "data": {
      "text/plain": [
       "[2, 2, 3, 3, 4, 101, 4, 5, 5, 6, 6, 10, 5]"
      ]
     },
     "execution_count": 48,
     "metadata": {},
     "output_type": "execute_result"
    }
   ],
   "source": [
    "l.insert(5,101)#POSITION AND VALUE\n",
    "l"
   ]
  },
  {
   "cell_type": "code",
   "execution_count": 50,
   "id": "927278f2",
   "metadata": {},
   "outputs": [
    {
     "data": {
      "text/plain": [
       "7"
      ]
     },
     "execution_count": 50,
     "metadata": {},
     "output_type": "execute_result"
    }
   ],
   "source": [
    "l.index(5)"
   ]
  },
  {
   "cell_type": "code",
   "execution_count": 51,
   "id": "20fd03e8",
   "metadata": {},
   "outputs": [
    {
     "data": {
      "text/plain": [
       "3"
      ]
     },
     "execution_count": 51,
     "metadata": {},
     "output_type": "execute_result"
    }
   ],
   "source": [
    "l.count(5)"
   ]
  },
  {
   "cell_type": "code",
   "execution_count": 52,
   "id": "f101eb37",
   "metadata": {},
   "outputs": [],
   "source": [
    "l.clear()"
   ]
  },
  {
   "cell_type": "code",
   "execution_count": 53,
   "id": "ab0198ea",
   "metadata": {},
   "outputs": [
    {
     "data": {
      "text/plain": [
       "[]"
      ]
     },
     "execution_count": 53,
     "metadata": {},
     "output_type": "execute_result"
    }
   ],
   "source": [
    "l"
   ]
  },
  {
   "cell_type": "markdown",
   "id": "9a25b5e2",
   "metadata": {},
   "source": [
    "# SLICING AND DICING"
   ]
  },
  {
   "cell_type": "code",
   "execution_count": 55,
   "id": "77f09fcc",
   "metadata": {},
   "outputs": [
    {
     "data": {
      "text/plain": [
       "1"
      ]
     },
     "execution_count": 55,
     "metadata": {},
     "output_type": "execute_result"
    }
   ],
   "source": [
    "l=[1,2,3,4,5,6]\n",
    "l[0]"
   ]
  },
  {
   "cell_type": "code",
   "execution_count": 56,
   "id": "61b92b4c",
   "metadata": {},
   "outputs": [
    {
     "data": {
      "text/plain": [
       "[9, 2, 3, 4, 5, 6]"
      ]
     },
     "execution_count": 56,
     "metadata": {},
     "output_type": "execute_result"
    }
   ],
   "source": [
    "l[0]=9\n",
    "l"
   ]
  },
  {
   "cell_type": "code",
   "execution_count": 57,
   "id": "0a94b01c",
   "metadata": {},
   "outputs": [
    {
     "data": {
      "text/plain": [
       "[3, 4, 5]"
      ]
     },
     "execution_count": 57,
     "metadata": {},
     "output_type": "execute_result"
    }
   ],
   "source": [
    "l[2:5]"
   ]
  },
  {
   "cell_type": "code",
   "execution_count": 58,
   "id": "67434385",
   "metadata": {},
   "outputs": [
    {
     "data": {
      "text/plain": [
       "[6, 5, 4, 3, 2, 9]"
      ]
     },
     "execution_count": 58,
     "metadata": {},
     "output_type": "execute_result"
    }
   ],
   "source": [
    "l[::-1]"
   ]
  },
  {
   "cell_type": "code",
   "execution_count": 59,
   "id": "e73a3559",
   "metadata": {},
   "outputs": [
    {
     "data": {
      "text/plain": [
       "[2, 4]"
      ]
     },
     "execution_count": 59,
     "metadata": {},
     "output_type": "execute_result"
    }
   ],
   "source": [
    "l[1:5:2]"
   ]
  },
  {
   "cell_type": "code",
   "execution_count": 61,
   "id": "57181669",
   "metadata": {},
   "outputs": [
    {
     "data": {
      "text/plain": [
       "[3, 4, 5]"
      ]
     },
     "execution_count": 61,
     "metadata": {},
     "output_type": "execute_result"
    }
   ],
   "source": [
    "l[-4:-1:1]"
   ]
  },
  {
   "cell_type": "markdown",
   "id": "cc26c5ac",
   "metadata": {},
   "source": [
    "# STRING--IMMUTABLE"
   ]
  },
  {
   "cell_type": "code",
   "execution_count": 54,
   "id": "6bbf9877",
   "metadata": {},
   "outputs": [
    {
     "data": {
      "text/plain": [
       "str"
      ]
     },
     "execution_count": 54,
     "metadata": {},
     "output_type": "execute_result"
    }
   ],
   "source": [
    "s='ashutosh'\n",
    "type(s)"
   ]
  },
  {
   "cell_type": "code",
   "execution_count": 62,
   "id": "4e96e995",
   "metadata": {},
   "outputs": [
    {
     "data": {
      "text/plain": [
       "'ashutosh'"
      ]
     },
     "execution_count": 62,
     "metadata": {},
     "output_type": "execute_result"
    }
   ],
   "source": [
    "s[0::1]"
   ]
  },
  {
   "cell_type": "code",
   "execution_count": 63,
   "id": "e9e00e96",
   "metadata": {},
   "outputs": [
    {
     "ename": "TypeError",
     "evalue": "'str' object does not support item assignment",
     "output_type": "error",
     "traceback": [
      "\u001b[1;31m---------------------------------------------------------------------------\u001b[0m",
      "\u001b[1;31mTypeError\u001b[0m                                 Traceback (most recent call last)",
      "\u001b[1;32m~\\AppData\\Local\\Temp/ipykernel_11712/2116794088.py\u001b[0m in \u001b[0;36m<module>\u001b[1;34m\u001b[0m\n\u001b[1;32m----> 1\u001b[1;33m \u001b[0ms\u001b[0m\u001b[1;33m[\u001b[0m\u001b[1;36m0\u001b[0m\u001b[1;33m]\u001b[0m\u001b[1;33m=\u001b[0m\u001b[1;34m'2'\u001b[0m\u001b[1;33m\u001b[0m\u001b[1;33m\u001b[0m\u001b[0m\n\u001b[0m",
      "\u001b[1;31mTypeError\u001b[0m: 'str' object does not support item assignment"
     ]
    }
   ],
   "source": [
    "s[0]='2'"
   ]
  },
  {
   "cell_type": "code",
   "execution_count": 64,
   "id": "8d34d4f5",
   "metadata": {},
   "outputs": [
    {
     "data": {
      "text/plain": [
       "'2ashutosh'"
      ]
     },
     "execution_count": 64,
     "metadata": {},
     "output_type": "execute_result"
    }
   ],
   "source": [
    "w='2'\n",
    "z=w+s\n",
    "z"
   ]
  },
  {
   "cell_type": "code",
   "execution_count": 65,
   "id": "51188f1f",
   "metadata": {},
   "outputs": [
    {
     "data": {
      "text/plain": [
       "'2suoh'"
      ]
     },
     "execution_count": 65,
     "metadata": {},
     "output_type": "execute_result"
    }
   ],
   "source": [
    "z[0::2]"
   ]
  },
  {
   "cell_type": "code",
   "execution_count": 68,
   "id": "382a2234",
   "metadata": {},
   "outputs": [
    {
     "data": {
      "text/plain": [
       "'2ashutosh'"
      ]
     },
     "execution_count": 68,
     "metadata": {},
     "output_type": "execute_result"
    }
   ],
   "source": [
    "z.capitalize()"
   ]
  },
  {
   "cell_type": "code",
   "execution_count": 69,
   "id": "799eb846",
   "metadata": {},
   "outputs": [
    {
     "data": {
      "text/plain": [
       "'2ashutosh'"
      ]
     },
     "execution_count": 69,
     "metadata": {},
     "output_type": "execute_result"
    }
   ],
   "source": [
    "z.casefold()"
   ]
  },
  {
   "cell_type": "code",
   "execution_count": 78,
   "id": "ad78919d",
   "metadata": {},
   "outputs": [
    {
     "data": {
      "text/plain": [
       "'2ashutosh '"
      ]
     },
     "execution_count": 78,
     "metadata": {},
     "output_type": "execute_result"
    }
   ],
   "source": [
    "z.center(10)"
   ]
  },
  {
   "cell_type": "code",
   "execution_count": 79,
   "id": "2dd954b9",
   "metadata": {},
   "outputs": [
    {
     "data": {
      "text/plain": [
       "1"
      ]
     },
     "execution_count": 79,
     "metadata": {},
     "output_type": "execute_result"
    }
   ],
   "source": [
    "z.count('a')"
   ]
  },
  {
   "cell_type": "code",
   "execution_count": 82,
   "id": "8b41fd43",
   "metadata": {},
   "outputs": [
    {
     "data": {
      "text/plain": [
       "b'2ashutosh'"
      ]
     },
     "execution_count": 82,
     "metadata": {},
     "output_type": "execute_result"
    }
   ],
   "source": [
    "z.encode()"
   ]
  },
  {
   "cell_type": "code",
   "execution_count": 84,
   "id": "95968442",
   "metadata": {},
   "outputs": [
    {
     "data": {
      "text/plain": [
       "False"
      ]
     },
     "execution_count": 84,
     "metadata": {},
     "output_type": "execute_result"
    }
   ],
   "source": [
    "z.endswith('a')"
   ]
  },
  {
   "cell_type": "code",
   "execution_count": 85,
   "id": "3fd85435",
   "metadata": {},
   "outputs": [
    {
     "data": {
      "text/plain": [
       "True"
      ]
     },
     "execution_count": 85,
     "metadata": {},
     "output_type": "execute_result"
    }
   ],
   "source": [
    "z.endswith('h')"
   ]
  },
  {
   "cell_type": "code",
   "execution_count": 86,
   "id": "5bfed383",
   "metadata": {},
   "outputs": [
    {
     "data": {
      "text/plain": [
       "1"
      ]
     },
     "execution_count": 86,
     "metadata": {},
     "output_type": "execute_result"
    }
   ],
   "source": [
    "z.find('a')"
   ]
  },
  {
   "cell_type": "code",
   "execution_count": 87,
   "id": "dc258a99",
   "metadata": {},
   "outputs": [
    {
     "data": {
      "text/plain": [
       "'2ashutosh'"
      ]
     },
     "execution_count": 87,
     "metadata": {},
     "output_type": "execute_result"
    }
   ],
   "source": [
    "z.format()"
   ]
  },
  {
   "cell_type": "code",
   "execution_count": 88,
   "id": "af17a845",
   "metadata": {},
   "outputs": [
    {
     "data": {
      "text/plain": [
       "True"
      ]
     },
     "execution_count": 88,
     "metadata": {},
     "output_type": "execute_result"
    }
   ],
   "source": [
    "z.isalnum()"
   ]
  },
  {
   "cell_type": "code",
   "execution_count": 89,
   "id": "a28c3831",
   "metadata": {},
   "outputs": [
    {
     "data": {
      "text/plain": [
       "False"
      ]
     },
     "execution_count": 89,
     "metadata": {},
     "output_type": "execute_result"
    }
   ],
   "source": [
    "z.isalpha()"
   ]
  },
  {
   "cell_type": "code",
   "execution_count": 90,
   "id": "14e85e39",
   "metadata": {},
   "outputs": [
    {
     "data": {
      "text/plain": [
       "True"
      ]
     },
     "execution_count": 90,
     "metadata": {},
     "output_type": "execute_result"
    }
   ],
   "source": [
    "z.isprintable()"
   ]
  },
  {
   "cell_type": "markdown",
   "id": "ec3b85e9",
   "metadata": {},
   "source": [
    "# TUPLE-IMMUTABLE"
   ]
  },
  {
   "cell_type": "code",
   "execution_count": 94,
   "id": "294aed0c",
   "metadata": {},
   "outputs": [
    {
     "data": {
      "text/plain": [
       "tuple"
      ]
     },
     "execution_count": 94,
     "metadata": {},
     "output_type": "execute_result"
    }
   ],
   "source": [
    "t=(1,2,3,4,5,6,7)\n",
    "type(t)"
   ]
  },
  {
   "cell_type": "code",
   "execution_count": 95,
   "id": "c01e7b38",
   "metadata": {},
   "outputs": [
    {
     "ename": "TypeError",
     "evalue": "'tuple' object does not support item assignment",
     "output_type": "error",
     "traceback": [
      "\u001b[1;31m---------------------------------------------------------------------------\u001b[0m",
      "\u001b[1;31mTypeError\u001b[0m                                 Traceback (most recent call last)",
      "\u001b[1;32m~\\AppData\\Local\\Temp/ipykernel_11712/1780933247.py\u001b[0m in \u001b[0;36m<module>\u001b[1;34m\u001b[0m\n\u001b[1;32m----> 1\u001b[1;33m \u001b[0mt\u001b[0m\u001b[1;33m[\u001b[0m\u001b[1;36m0\u001b[0m\u001b[1;33m]\u001b[0m\u001b[1;33m=\u001b[0m\u001b[1;36m0\u001b[0m\u001b[1;33m\u001b[0m\u001b[1;33m\u001b[0m\u001b[0m\n\u001b[0m",
      "\u001b[1;31mTypeError\u001b[0m: 'tuple' object does not support item assignment"
     ]
    }
   ],
   "source": [
    "t[0]=0"
   ]
  },
  {
   "cell_type": "code",
   "execution_count": 97,
   "id": "2817419d",
   "metadata": {},
   "outputs": [
    {
     "data": {
      "text/plain": [
       "(0, 11, 1, 2, 3, 4, 5, 6, 7)"
      ]
     },
     "execution_count": 97,
     "metadata": {},
     "output_type": "execute_result"
    }
   ],
   "source": [
    "s=(0,11)\n",
    "m=s+t\n",
    "m"
   ]
  },
  {
   "cell_type": "code",
   "execution_count": 99,
   "id": "a24b9da1",
   "metadata": {},
   "outputs": [
    {
     "data": {
      "text/plain": [
       "(7, 6, 5, 4, 3, 2, 1, 11, 0)"
      ]
     },
     "execution_count": 99,
     "metadata": {},
     "output_type": "execute_result"
    }
   ],
   "source": [
    "m[::-1]"
   ]
  },
  {
   "cell_type": "code",
   "execution_count": 100,
   "id": "4c6f20b3",
   "metadata": {},
   "outputs": [
    {
     "data": {
      "text/plain": [
       "1"
      ]
     },
     "execution_count": 100,
     "metadata": {},
     "output_type": "execute_result"
    }
   ],
   "source": [
    "m.count(0)"
   ]
  },
  {
   "cell_type": "code",
   "execution_count": 101,
   "id": "13c6fbeb",
   "metadata": {},
   "outputs": [
    {
     "data": {
      "text/plain": [
       "7"
      ]
     },
     "execution_count": 101,
     "metadata": {},
     "output_type": "execute_result"
    }
   ],
   "source": [
    "m.index(6)"
   ]
  },
  {
   "cell_type": "markdown",
   "id": "18f0acd8",
   "metadata": {},
   "source": [
    "# DICTIONARY--MUTABLE"
   ]
  },
  {
   "cell_type": "code",
   "execution_count": 102,
   "id": "32f6fde7",
   "metadata": {},
   "outputs": [
    {
     "name": "stdout",
     "output_type": "stream",
     "text": [
      "{'A': (1, 2, 3, ['ASHU', 'RAVI', 'GOPI']), 'B': ['1', '2', 'EGGS', 'OMLATE', (11, 12)], 'C': 'ASHUTOSH'} \n",
      " <class 'dict'>\n"
     ]
    }
   ],
   "source": [
    "d={'A':(1,2,3,['ASHU','RAVI','GOPI']),'B':['1','2','EGGS','OMLATE',(11,12)],'C':'ASHUTOSH'}\n",
    "print(d,\"\\n\",type(d))"
   ]
  },
  {
   "cell_type": "code",
   "execution_count": 103,
   "id": "0f6702da",
   "metadata": {},
   "outputs": [
    {
     "data": {
      "text/plain": [
       "dict_keys(['A', 'B', 'C'])"
      ]
     },
     "execution_count": 103,
     "metadata": {},
     "output_type": "execute_result"
    }
   ],
   "source": [
    "d.keys()"
   ]
  },
  {
   "cell_type": "code",
   "execution_count": 104,
   "id": "d6940b84",
   "metadata": {},
   "outputs": [
    {
     "data": {
      "text/plain": [
       "dict_values([(1, 2, 3, ['ASHU', 'RAVI', 'GOPI']), ['1', '2', 'EGGS', 'OMLATE', (11, 12)], 'ASHUTOSH'])"
      ]
     },
     "execution_count": 104,
     "metadata": {},
     "output_type": "execute_result"
    }
   ],
   "source": [
    "d.values()"
   ]
  },
  {
   "cell_type": "code",
   "execution_count": 105,
   "id": "b01b972c",
   "metadata": {},
   "outputs": [
    {
     "data": {
      "text/plain": [
       "dict_items([('A', (1, 2, 3, ['ASHU', 'RAVI', 'GOPI'])), ('B', ['1', '2', 'EGGS', 'OMLATE', (11, 12)]), ('C', 'ASHUTOSH')])"
      ]
     },
     "execution_count": 105,
     "metadata": {},
     "output_type": "execute_result"
    }
   ],
   "source": [
    "d.items()"
   ]
  },
  {
   "cell_type": "code",
   "execution_count": 106,
   "id": "ce0a1166",
   "metadata": {},
   "outputs": [
    {
     "data": {
      "text/plain": [
       "(1, 2, 3, ['ASHU', 'RAVI', 'GOPI'])"
      ]
     },
     "execution_count": 106,
     "metadata": {},
     "output_type": "execute_result"
    }
   ],
   "source": [
    "d['A']"
   ]
  },
  {
   "cell_type": "code",
   "execution_count": 109,
   "id": "81544152",
   "metadata": {},
   "outputs": [
    {
     "data": {
      "text/plain": [
       "['1', '2', 'EGGS', 'OMLATE', (11, 12)]"
      ]
     },
     "execution_count": 109,
     "metadata": {},
     "output_type": "execute_result"
    }
   ],
   "source": [
    "d['B']"
   ]
  },
  {
   "cell_type": "code",
   "execution_count": 110,
   "id": "306e6920",
   "metadata": {},
   "outputs": [
    {
     "data": {
      "text/plain": [
       "'ASHUTOSH'"
      ]
     },
     "execution_count": 110,
     "metadata": {},
     "output_type": "execute_result"
    }
   ],
   "source": [
    "d['C']"
   ]
  },
  {
   "cell_type": "code",
   "execution_count": 111,
   "id": "5b1aad94",
   "metadata": {},
   "outputs": [
    {
     "data": {
      "text/plain": [
       "{'A': (1, 2, 3, ['ASHU', 'RAVI', 'GOPI']),\n",
       " 'B': ['1', '2', 'EGGS', 'OMLATE', (11, 12)],\n",
       " 'C': 'MISHRAJIDATASCIENTIST'}"
      ]
     },
     "execution_count": 111,
     "metadata": {},
     "output_type": "execute_result"
    }
   ],
   "source": [
    "d['C']='MISHRAJIDATASCIENTIST'\n",
    "d"
   ]
  },
  {
   "cell_type": "code",
   "execution_count": 113,
   "id": "14cbc4e5",
   "metadata": {},
   "outputs": [
    {
     "data": {
      "text/plain": [
       "'MISHRAJIDATASCIENTIST'"
      ]
     },
     "execution_count": 113,
     "metadata": {},
     "output_type": "execute_result"
    }
   ],
   "source": [
    "d.pop('C')"
   ]
  },
  {
   "cell_type": "code",
   "execution_count": 114,
   "id": "c22c649e",
   "metadata": {},
   "outputs": [
    {
     "data": {
      "text/plain": [
       "{'A': (1, 2, 3, ['ASHU', 'RAVI', 'GOPI']),\n",
       " 'B': ['1', '2', 'EGGS', 'OMLATE', (11, 12)]}"
      ]
     },
     "execution_count": 114,
     "metadata": {},
     "output_type": "execute_result"
    }
   ],
   "source": [
    "d"
   ]
  },
  {
   "cell_type": "code",
   "execution_count": 115,
   "id": "72a2389d",
   "metadata": {},
   "outputs": [
    {
     "data": {
      "text/plain": [
       "('B', ['1', '2', 'EGGS', 'OMLATE', (11, 12)])"
      ]
     },
     "execution_count": 115,
     "metadata": {},
     "output_type": "execute_result"
    }
   ],
   "source": [
    "d.popitem()"
   ]
  },
  {
   "cell_type": "code",
   "execution_count": 117,
   "id": "11c0c085",
   "metadata": {},
   "outputs": [
    {
     "data": {
      "text/plain": [
       "{'A': (1, 2, 3, ['ASHU', 'RAVI', 'GOPI'])}"
      ]
     },
     "execution_count": 117,
     "metadata": {},
     "output_type": "execute_result"
    }
   ],
   "source": [
    "d"
   ]
  },
  {
   "cell_type": "code",
   "execution_count": 119,
   "id": "a294fe87",
   "metadata": {},
   "outputs": [
    {
     "data": {
      "text/plain": [
       "{'A': None}"
      ]
     },
     "execution_count": 119,
     "metadata": {},
     "output_type": "execute_result"
    }
   ],
   "source": [
    "d.fromkeys('A')"
   ]
  },
  {
   "cell_type": "code",
   "execution_count": 122,
   "id": "2102cf5d",
   "metadata": {},
   "outputs": [
    {
     "data": {
      "text/plain": [
       "(1, 2, 3, ['ASHU', 'RAVI', 'GOPI'])"
      ]
     },
     "execution_count": 122,
     "metadata": {},
     "output_type": "execute_result"
    }
   ],
   "source": [
    "d.get('A')"
   ]
  },
  {
   "cell_type": "code",
   "execution_count": 123,
   "id": "35b423c2",
   "metadata": {},
   "outputs": [],
   "source": [
    "d.clear()"
   ]
  },
  {
   "cell_type": "code",
   "execution_count": 124,
   "id": "b5c06b09",
   "metadata": {},
   "outputs": [
    {
     "data": {
      "text/plain": [
       "{}"
      ]
     },
     "execution_count": 124,
     "metadata": {},
     "output_type": "execute_result"
    }
   ],
   "source": [
    "d"
   ]
  },
  {
   "cell_type": "markdown",
   "id": "e6992232",
   "metadata": {},
   "source": [
    "# SET--MUTABLE"
   ]
  },
  {
   "cell_type": "code",
   "execution_count": 148,
   "id": "484a5c88",
   "metadata": {},
   "outputs": [
    {
     "data": {
      "text/plain": [
       "set"
      ]
     },
     "execution_count": 148,
     "metadata": {},
     "output_type": "execute_result"
    }
   ],
   "source": [
    "s=set([1,1,2,3,4,5,6,7,8,9,0,1,2,3,4,5,6,7,8,9,11,2,2,3,3,4,4,5,66,7,7,7,7,7,656555,12])\n",
    "type(s)"
   ]
  },
  {
   "cell_type": "code",
   "execution_count": 149,
   "id": "fa9909cb",
   "metadata": {},
   "outputs": [
    {
     "data": {
      "text/plain": [
       "{0, 1, 2, 3, 4, 5, 6, 7, 8, 9, 11, 12, 66, 656555}"
      ]
     },
     "execution_count": 149,
     "metadata": {},
     "output_type": "execute_result"
    }
   ],
   "source": [
    "s"
   ]
  },
  {
   "cell_type": "code",
   "execution_count": 150,
   "id": "92dd2273",
   "metadata": {},
   "outputs": [],
   "source": [
    "s.add(12.3)"
   ]
  },
  {
   "cell_type": "code",
   "execution_count": 151,
   "id": "dd280aa6",
   "metadata": {},
   "outputs": [
    {
     "data": {
      "text/plain": [
       "{0, 1, 2, 3, 4, 5, 6, 7, 8, 9, 11, 12, 12.3, 66, 656555}"
      ]
     },
     "execution_count": 151,
     "metadata": {},
     "output_type": "execute_result"
    }
   ],
   "source": [
    "s"
   ]
  },
  {
   "cell_type": "code",
   "execution_count": 152,
   "id": "1299103f",
   "metadata": {},
   "outputs": [
    {
     "data": {
      "text/plain": [
       "0"
      ]
     },
     "execution_count": 152,
     "metadata": {},
     "output_type": "execute_result"
    }
   ],
   "source": [
    "s.pop()"
   ]
  },
  {
   "cell_type": "code",
   "execution_count": 131,
   "id": "46a5a725",
   "metadata": {},
   "outputs": [
    {
     "data": {
      "text/plain": [
       "{2, 3, 4, 5, 6, 7, 8, 9, 11, 12, 12.3, 66, 656555}"
      ]
     },
     "execution_count": 131,
     "metadata": {},
     "output_type": "execute_result"
    }
   ],
   "source": [
    "s.pop()\n",
    "s"
   ]
  },
  {
   "cell_type": "code",
   "execution_count": 138,
   "id": "aa4c2756",
   "metadata": {},
   "outputs": [
    {
     "data": {
      "text/plain": [
       "{2, 3, 4, 5, 6, 7, 8, 9, 11, 12.3, 66, 656555}"
      ]
     },
     "execution_count": 138,
     "metadata": {},
     "output_type": "execute_result"
    }
   ],
   "source": [
    "s.remove(12)\n",
    "s"
   ]
  },
  {
   "cell_type": "markdown",
   "id": "a5b88663",
   "metadata": {},
   "source": [
    "# FROZEN SET--IMMUTABLE"
   ]
  },
  {
   "cell_type": "code",
   "execution_count": 144,
   "id": "829fd5a8",
   "metadata": {},
   "outputs": [
    {
     "data": {
      "text/plain": [
       "frozenset"
      ]
     },
     "execution_count": 144,
     "metadata": {},
     "output_type": "execute_result"
    }
   ],
   "source": [
    "s=frozenset([1,1,2,3,4,5,6,7,8,9,0,1,2,3,4,5,6,7,8,9,11,2,2,3,3,4,4,5,66,7,7,7,7,7,656555,12])\n",
    "type(s)"
   ]
  },
  {
   "cell_type": "code",
   "execution_count": 145,
   "id": "2503830e",
   "metadata": {},
   "outputs": [
    {
     "data": {
      "text/plain": [
       "frozenset({0, 1, 2, 3, 4, 5, 6, 7, 8, 9, 11, 12, 66, 656555})"
      ]
     },
     "execution_count": 145,
     "metadata": {},
     "output_type": "execute_result"
    }
   ],
   "source": [
    "s"
   ]
  },
  {
   "cell_type": "code",
   "execution_count": 146,
   "id": "c7de4216",
   "metadata": {},
   "outputs": [
    {
     "ename": "AttributeError",
     "evalue": "'frozenset' object has no attribute 'add'",
     "output_type": "error",
     "traceback": [
      "\u001b[1;31m---------------------------------------------------------------------------\u001b[0m",
      "\u001b[1;31mAttributeError\u001b[0m                            Traceback (most recent call last)",
      "\u001b[1;32m~\\AppData\\Local\\Temp/ipykernel_11712/4188367258.py\u001b[0m in \u001b[0;36m<module>\u001b[1;34m\u001b[0m\n\u001b[1;32m----> 1\u001b[1;33m \u001b[0ms\u001b[0m\u001b[1;33m.\u001b[0m\u001b[0madd\u001b[0m\u001b[1;33m(\u001b[0m\u001b[1;36m121\u001b[0m\u001b[1;33m)\u001b[0m\u001b[1;33m\u001b[0m\u001b[1;33m\u001b[0m\u001b[0m\n\u001b[0m\u001b[0;32m      2\u001b[0m \u001b[0ms\u001b[0m\u001b[1;33m\u001b[0m\u001b[1;33m\u001b[0m\u001b[0m\n",
      "\u001b[1;31mAttributeError\u001b[0m: 'frozenset' object has no attribute 'add'"
     ]
    }
   ],
   "source": [
    "s.add(121)\n",
    "s"
   ]
  },
  {
   "cell_type": "code",
   "execution_count": 147,
   "id": "e72ed359",
   "metadata": {},
   "outputs": [
    {
     "ename": "AttributeError",
     "evalue": "'frozenset' object has no attribute 'pop'",
     "output_type": "error",
     "traceback": [
      "\u001b[1;31m---------------------------------------------------------------------------\u001b[0m",
      "\u001b[1;31mAttributeError\u001b[0m                            Traceback (most recent call last)",
      "\u001b[1;32m~\\AppData\\Local\\Temp/ipykernel_11712/3455620568.py\u001b[0m in \u001b[0;36m<module>\u001b[1;34m\u001b[0m\n\u001b[1;32m----> 1\u001b[1;33m \u001b[0ms\u001b[0m\u001b[1;33m.\u001b[0m\u001b[0mpop\u001b[0m\u001b[1;33m(\u001b[0m\u001b[1;33m)\u001b[0m\u001b[1;33m\u001b[0m\u001b[1;33m\u001b[0m\u001b[0m\n\u001b[0m",
      "\u001b[1;31mAttributeError\u001b[0m: 'frozenset' object has no attribute 'pop'"
     ]
    }
   ],
   "source": [
    "s.pop()"
   ]
  },
  {
   "cell_type": "markdown",
   "id": "d5ad45a8",
   "metadata": {},
   "source": [
    "# Reading,Appending and OverWriting a File"
   ]
  },
  {
   "cell_type": "code",
   "execution_count": 153,
   "id": "9c8ec01a",
   "metadata": {},
   "outputs": [
    {
     "name": "stdout",
     "output_type": "stream",
     "text": [
      "Writing latest.txt\n"
     ]
    }
   ],
   "source": [
    "%%writefile 'latest.txt'\n",
    "My name is Ashutosh Mishra.\n",
    "I am from Mehdawal Uttar Pradesh.\n",
    "A small townarea located in Sant Kabir Nagar\n",
    "I always wanted to be a data analyst so that i can talk about data and give suggestions accordingly to the respective organization.\n",
    "Here comes the transition for me and i know that i'm going to earn a lot as we all know that hard work always get paid off.\n",
    "Thanking You!!!"
   ]
  },
  {
   "cell_type": "code",
   "execution_count": 154,
   "id": "273ff4bf",
   "metadata": {},
   "outputs": [
    {
     "data": {
      "text/plain": [
       "\"My name is Ashutosh Mishra.\\nI am from Mehdawal Uttar Pradesh.\\nA small townarea located in Sant Kabir Nagar\\nI always wanted to be a data analyst so that i can talk about data and give suggestions accordingly to the respective organization.\\nHere comes the transition for me and i know that i'm going to earn a lot as we all know that hard work always get paid off.\\nThanking You!!!\\n\""
      ]
     },
     "execution_count": 154,
     "metadata": {},
     "output_type": "execute_result"
    }
   ],
   "source": [
    "a=open('latest.txt',mode='r')\n",
    "a.read()"
   ]
  },
  {
   "cell_type": "code",
   "execution_count": 155,
   "id": "76ba9381",
   "metadata": {},
   "outputs": [
    {
     "data": {
      "text/plain": [
       "[]"
      ]
     },
     "execution_count": 155,
     "metadata": {},
     "output_type": "execute_result"
    }
   ],
   "source": [
    "a.readlines()"
   ]
  },
  {
   "cell_type": "code",
   "execution_count": 156,
   "id": "ff726531",
   "metadata": {},
   "outputs": [
    {
     "data": {
      "text/plain": [
       "0"
      ]
     },
     "execution_count": 156,
     "metadata": {},
     "output_type": "execute_result"
    }
   ],
   "source": [
    "a.seek(0)"
   ]
  },
  {
   "cell_type": "code",
   "execution_count": 157,
   "id": "2ce86fbf",
   "metadata": {},
   "outputs": [
    {
     "data": {
      "text/plain": [
       "['My name is Ashutosh Mishra.\\n',\n",
       " 'I am from Mehdawal Uttar Pradesh.\\n',\n",
       " 'A small townarea located in Sant Kabir Nagar\\n',\n",
       " 'I always wanted to be a data analyst so that i can talk about data and give suggestions accordingly to the respective organization.\\n',\n",
       " \"Here comes the transition for me and i know that i'm going to earn a lot as we all know that hard work always get paid off.\\n\",\n",
       " 'Thanking You!!!\\n']"
      ]
     },
     "execution_count": 157,
     "metadata": {},
     "output_type": "execute_result"
    }
   ],
   "source": [
    "a.readlines()"
   ]
  },
  {
   "cell_type": "code",
   "execution_count": 159,
   "id": "0e299c41",
   "metadata": {},
   "outputs": [
    {
     "data": {
      "text/plain": [
       "0"
      ]
     },
     "execution_count": 159,
     "metadata": {},
     "output_type": "execute_result"
    }
   ],
   "source": [
    "a.seek(0)"
   ]
  },
  {
   "cell_type": "code",
   "execution_count": 160,
   "id": "fea72a72",
   "metadata": {},
   "outputs": [
    {
     "data": {
      "text/plain": [
       "6"
      ]
     },
     "execution_count": 160,
     "metadata": {},
     "output_type": "execute_result"
    }
   ],
   "source": [
    "len(a.readlines())"
   ]
  },
  {
   "cell_type": "code",
   "execution_count": 162,
   "id": "22ce10c4",
   "metadata": {},
   "outputs": [
    {
     "data": {
      "text/plain": [
       "\"My name is Ashutosh Mishra.\\nI am from Mehdawal Uttar Pradesh.\\nA small townarea located in Sant Kabir Nagar\\nI always wanted to be a data analyst so that i can talk about data and give suggestions accordingly to the respective organization.\\nHere comes the transition for me and i know that i'm going to earn a lot as we all know that hard work always get paid off.\\nThanking You!!!\\nEarlier i was working in a banking industry as a sales associate but i came to realized that it's not my cup of tea\""
      ]
     },
     "execution_count": 162,
     "metadata": {},
     "output_type": "execute_result"
    }
   ],
   "source": [
    "a=open('latest.txt',mode='a')\n",
    "a.write(\"Earlier i was working in a banking industry as a sales associate but i came to realized that it's not my cup of tea\")\n",
    "a=open('latest.txt',mode='r') \n",
    "a.read()       "
   ]
  },
  {
   "cell_type": "code",
   "execution_count": 165,
   "id": "f4238941",
   "metadata": {},
   "outputs": [
    {
     "data": {
      "text/plain": [
       "26"
      ]
     },
     "execution_count": 165,
     "metadata": {},
     "output_type": "execute_result"
    }
   ],
   "source": [
    "a=open('latest.txt',mode='w')\n",
    "a.write('intro about Ashu the great')"
   ]
  },
  {
   "cell_type": "code",
   "execution_count": 166,
   "id": "299c371b",
   "metadata": {},
   "outputs": [
    {
     "data": {
      "text/plain": [
       "'intro about Ashu the great'"
      ]
     },
     "execution_count": 166,
     "metadata": {},
     "output_type": "execute_result"
    }
   ],
   "source": [
    "a=open('latest.txt',mode='r') \n",
    "a.read()       "
   ]
  },
  {
   "cell_type": "code",
   "execution_count": 167,
   "id": "5bae2b9a",
   "metadata": {},
   "outputs": [
    {
     "data": {
      "text/plain": [
       "36"
      ]
     },
     "execution_count": 167,
     "metadata": {},
     "output_type": "execute_result"
    }
   ],
   "source": [
    "a=open('latest.txt',mode='w+')\n",
    "a.write('The Upcoming Data Scientist for Sure')"
   ]
  },
  {
   "cell_type": "code",
   "execution_count": 169,
   "id": "512c96d4",
   "metadata": {},
   "outputs": [
    {
     "data": {
      "text/plain": [
       "'The Upcoming Data Scientist for Sure'"
      ]
     },
     "execution_count": 169,
     "metadata": {},
     "output_type": "execute_result"
    }
   ],
   "source": [
    "a=open('latest.txt',mode='r') \n",
    "a.read()  "
   ]
  },
  {
   "cell_type": "markdown",
   "id": "118d5ec9",
   "metadata": {},
   "source": [
    "# Conditional IF-ELIF-ELSE STATEMENT"
   ]
  },
  {
   "cell_type": "code",
   "execution_count": 177,
   "id": "240b21d1",
   "metadata": {},
   "outputs": [
    {
     "name": "stdout",
     "output_type": "stream",
     "text": [
      "10-l is a even number\n"
     ]
    }
   ],
   "source": [
    "a,b=10,9\n",
    "l=a\n",
    "if l==a:\n",
    "    print(f'{l}-l is a even number')\n",
    "elif l==b:\n",
    "    print(f'{l}-l is an odd number')\n",
    "else:\n",
    "    print(f'l is neither even nor prime!')"
   ]
  },
  {
   "cell_type": "code",
   "execution_count": 178,
   "id": "dd60dbf6",
   "metadata": {},
   "outputs": [
    {
     "name": "stdout",
     "output_type": "stream",
     "text": [
      "9-l is an odd number\n"
     ]
    }
   ],
   "source": [
    "a,b=10,9\n",
    "l=b\n",
    "if l==a:\n",
    "    print(f'{l}-l is a even number')\n",
    "elif l==b:\n",
    "    print(f'{l}-l is an odd number')\n",
    "else:\n",
    "    print(f'l is neither even nor prime!')"
   ]
  },
  {
   "cell_type": "code",
   "execution_count": 184,
   "id": "407d6927",
   "metadata": {},
   "outputs": [
    {
     "name": "stdout",
     "output_type": "stream",
     "text": [
      "l is neither even nor prime!\n"
     ]
    }
   ],
   "source": [
    "if l==a:\n",
    "    print(f'{l}-l is a even number')\n",
    "elif l==b:\n",
    "    print(f'{l}-l is an odd number')\n",
    "else:\n",
    "    print(f'l is neither even nor prime!')"
   ]
  },
  {
   "cell_type": "markdown",
   "id": "01bd37c8",
   "metadata": {},
   "source": [
    "# For and While Loop"
   ]
  },
  {
   "cell_type": "code",
   "execution_count": 1,
   "id": "5c556f06",
   "metadata": {},
   "outputs": [
    {
     "name": "stdout",
     "output_type": "stream",
     "text": [
      "1\n",
      "2\n",
      "3\n",
      "4\n",
      "5\n"
     ]
    }
   ],
   "source": [
    "a=[1,2,3,4,5]\n",
    "for i in a:\n",
    "    print(i)"
   ]
  },
  {
   "cell_type": "code",
   "execution_count": 2,
   "id": "2afd23bb",
   "metadata": {},
   "outputs": [
    {
     "name": "stdout",
     "output_type": "stream",
     "text": [
      "1.0\n",
      "1.4142135623730951\n",
      "1.7320508075688772\n",
      "2.0\n",
      "2.23606797749979\n"
     ]
    }
   ],
   "source": [
    "a=[1,2,3,4,5]\n",
    "for i in a:\n",
    "    print(i**0.5)"
   ]
  },
  {
   "cell_type": "code",
   "execution_count": 6,
   "id": "835f7b9e",
   "metadata": {},
   "outputs": [
    {
     "name": "stdout",
     "output_type": "stream",
     "text": [
      "1.0\n",
      "1.4142135623730951\n",
      "1.7320508075688772\n",
      "2.0\n",
      "2.23606797749979\n"
     ]
    }
   ],
   "source": [
    "a=1\n",
    "while a<=5:\n",
    "    print(a**0.5)\n",
    "    a+=1"
   ]
  },
  {
   "cell_type": "markdown",
   "id": "5d76b4a0",
   "metadata": {},
   "source": [
    "# PASS,BREAK,CONTINUE"
   ]
  },
  {
   "cell_type": "code",
   "execution_count": 8,
   "id": "bf903077",
   "metadata": {},
   "outputs": [],
   "source": [
    "a=[1,2,3,4,5]\n",
    "for i in a:\n",
    "    if i==4:\n",
    "        pass"
   ]
  },
  {
   "cell_type": "code",
   "execution_count": 11,
   "id": "5b7df79f",
   "metadata": {},
   "outputs": [
    {
     "name": "stdout",
     "output_type": "stream",
     "text": [
      "1 --- 1.0\n",
      "2 --- 1.4142135623730951\n",
      "3 --- 1.7320508075688772\n"
     ]
    }
   ],
   "source": [
    "a=[1,2,3,4,5]\n",
    "for i in a:\n",
    "    if i==4:\n",
    "        break\n",
    "    print(i,'---',i**0.5)"
   ]
  },
  {
   "cell_type": "code",
   "execution_count": 13,
   "id": "2e73be00",
   "metadata": {},
   "outputs": [
    {
     "name": "stdout",
     "output_type": "stream",
     "text": [
      "1 --- 1.0\n",
      "2 --- 1.4142135623730951\n",
      "4 --- 2.0\n",
      "5 --- 2.23606797749979\n"
     ]
    }
   ],
   "source": [
    "a=[1,2,3,4,5]\n",
    "for i in a:\n",
    "    if i==3:\n",
    "        continue\n",
    "    print(i,'---',i**0.5)"
   ]
  },
  {
   "cell_type": "markdown",
   "id": "107e46ba",
   "metadata": {},
   "source": [
    "# LIST COMPREHENSION"
   ]
  },
  {
   "cell_type": "code",
   "execution_count": 14,
   "id": "d68f20cd",
   "metadata": {},
   "outputs": [
    {
     "data": {
      "text/plain": [
       "[3.1622776601683795,\n",
       " 10.0,\n",
       " 14.142135623730951,\n",
       " 17.320508075688775,\n",
       " 20.0,\n",
       " 22.360679774997898,\n",
       " 24.49489742783178,\n",
       " 26.457513110645905,\n",
       " 28.284271247461902,\n",
       " 30.0,\n",
       " 31.622776601683793]"
      ]
     },
     "execution_count": 14,
     "metadata": {},
     "output_type": "execute_result"
    }
   ],
   "source": [
    "#SQUARE ROOT\n",
    "l=[10,100,200,300,400,500,600,700,800,900,1000]\n",
    "[x**0.5 for x in l]"
   ]
  },
  {
   "cell_type": "code",
   "execution_count": 18,
   "id": "ca55df48",
   "metadata": {},
   "outputs": [
    {
     "data": {
      "text/plain": [
       "[]"
      ]
     },
     "execution_count": 18,
     "metadata": {},
     "output_type": "execute_result"
    }
   ],
   "source": [
    "#SQUARE ROOT WITH CONDITION\n",
    "l=[10,100,200,300,400,500,600,700,800,900,1000]\n",
    "[x**0.5 for x in l if x%2!=0]"
   ]
  },
  {
   "cell_type": "code",
   "execution_count": 25,
   "id": "6a8b0429",
   "metadata": {},
   "outputs": [
    {
     "data": {
      "text/plain": [
       "[124.16227766016839,\n",
       " 487.1622776601684,\n",
       " 1092.1622776601685,\n",
       " 1939.1622776601685,\n",
       " 3028.1622776601685,\n",
       " 131.0,\n",
       " 494.0,\n",
       " 1099.0,\n",
       " 1946.0,\n",
       " 3035.0,\n",
       " 135.14213562373095,\n",
       " 498.14213562373095,\n",
       " 1103.142135623731,\n",
       " 1950.142135623731,\n",
       " 3039.142135623731,\n",
       " 138.32050807568876,\n",
       " 501.3205080756888,\n",
       " 1106.3205080756888,\n",
       " 1953.3205080756888,\n",
       " 3042.320508075689,\n",
       " 141.0,\n",
       " 504.0,\n",
       " 1109.0,\n",
       " 1956.0,\n",
       " 3045.0,\n",
       " 143.3606797749979,\n",
       " 506.3606797749979,\n",
       " 1111.3606797749978,\n",
       " 1958.3606797749978,\n",
       " 3047.360679774998,\n",
       " 145.49489742783177,\n",
       " 508.4948974278318,\n",
       " 1113.4948974278318,\n",
       " 1960.4948974278318,\n",
       " 3049.494897427832,\n",
       " 147.4575131106459,\n",
       " 510.4575131106459,\n",
       " 1115.457513110646,\n",
       " 1962.457513110646,\n",
       " 3051.457513110646,\n",
       " 149.2842712474619,\n",
       " 512.2842712474619,\n",
       " 1117.284271247462,\n",
       " 1964.284271247462,\n",
       " 3053.284271247462,\n",
       " 151.0,\n",
       " 514.0,\n",
       " 1119.0,\n",
       " 1966.0,\n",
       " 3055.0,\n",
       " 152.6227766016838,\n",
       " 515.6227766016838,\n",
       " 1120.6227766016839,\n",
       " 1967.6227766016839,\n",
       " 3056.6227766016837]"
      ]
     },
     "execution_count": 25,
     "metadata": {},
     "output_type": "execute_result"
    }
   ],
   "source": [
    "#SQUARE ROOT AND SQUARE\n",
    "l,m=[10,100,200,300,400,500,600,700,800,900,1000],[11,22,33,44,55]\n",
    "[((x**0.5)+(y**2)) for x in l for y in m]"
   ]
  },
  {
   "cell_type": "code",
   "execution_count": 26,
   "id": "2d079b88",
   "metadata": {},
   "outputs": [
    {
     "data": {
      "text/plain": [
       "[1, 8, 27, 64, 125, 216, 343, 512, 729, 287496, 729000]"
      ]
     },
     "execution_count": 26,
     "metadata": {},
     "output_type": "execute_result"
    }
   ],
   "source": [
    "j=frozenset([1,2,3,4,5,6,7,8,9,1,2,3,66,5,5,4,3,3,6,7,90])\n",
    "[x**3 for x in j]"
   ]
  },
  {
   "cell_type": "markdown",
   "id": "37a463b1",
   "metadata": {},
   "source": [
    "# USER DEFINED FUNCTION"
   ]
  },
  {
   "cell_type": "code",
   "execution_count": 27,
   "id": "e5301e87",
   "metadata": {},
   "outputs": [],
   "source": [
    "def sum(a,b):\n",
    "    return a+b"
   ]
  },
  {
   "cell_type": "code",
   "execution_count": 28,
   "id": "3d5139d3",
   "metadata": {},
   "outputs": [
    {
     "data": {
      "text/plain": [
       "101"
      ]
     },
     "execution_count": 28,
     "metadata": {},
     "output_type": "execute_result"
    }
   ],
   "source": [
    "sum(100,1)"
   ]
  },
  {
   "cell_type": "code",
   "execution_count": 32,
   "id": "266a5a91",
   "metadata": {},
   "outputs": [],
   "source": [
    "def mult(x,y):\n",
    "    return [i*z for i in x for z in y]"
   ]
  },
  {
   "cell_type": "code",
   "execution_count": 33,
   "id": "6ddb84f9",
   "metadata": {},
   "outputs": [
    {
     "data": {
      "text/plain": [
       "[6,\n",
       " 7,\n",
       " 8,\n",
       " 9,\n",
       " 0,\n",
       " 12,\n",
       " 14,\n",
       " 16,\n",
       " 18,\n",
       " 0,\n",
       " 18,\n",
       " 21,\n",
       " 24,\n",
       " 27,\n",
       " 0,\n",
       " 24,\n",
       " 28,\n",
       " 32,\n",
       " 36,\n",
       " 0,\n",
       " 30,\n",
       " 35,\n",
       " 40,\n",
       " 45,\n",
       " 0]"
      ]
     },
     "execution_count": 33,
     "metadata": {},
     "output_type": "execute_result"
    }
   ],
   "source": [
    "mult([1,2,3,4,5],[6,7,8,9,0])"
   ]
  },
  {
   "cell_type": "code",
   "execution_count": 34,
   "id": "6f262eb1",
   "metadata": {},
   "outputs": [],
   "source": [
    "def eo(a):\n",
    "    return a%2==0"
   ]
  },
  {
   "cell_type": "code",
   "execution_count": 35,
   "id": "244dbaff",
   "metadata": {},
   "outputs": [
    {
     "data": {
      "text/plain": [
       "True"
      ]
     },
     "execution_count": 35,
     "metadata": {},
     "output_type": "execute_result"
    }
   ],
   "source": [
    "eo(2)"
   ]
  },
  {
   "cell_type": "code",
   "execution_count": 36,
   "id": "01240e45",
   "metadata": {},
   "outputs": [
    {
     "data": {
      "text/plain": [
       "False"
      ]
     },
     "execution_count": 36,
     "metadata": {},
     "output_type": "execute_result"
    }
   ],
   "source": [
    "eo(1)"
   ]
  },
  {
   "cell_type": "code",
   "execution_count": 37,
   "id": "b19cf156",
   "metadata": {},
   "outputs": [
    {
     "data": {
      "text/plain": [
       "False"
      ]
     },
     "execution_count": 37,
     "metadata": {},
     "output_type": "execute_result"
    }
   ],
   "source": [
    "eo(3)"
   ]
  },
  {
   "cell_type": "code",
   "execution_count": 38,
   "id": "c262c646",
   "metadata": {},
   "outputs": [
    {
     "data": {
      "text/plain": [
       "True"
      ]
     },
     "execution_count": 38,
     "metadata": {},
     "output_type": "execute_result"
    }
   ],
   "source": [
    "eo(4)"
   ]
  },
  {
   "cell_type": "markdown",
   "id": "6c5c2247",
   "metadata": {},
   "source": [
    "# ARGUMNET * & KEYWORD ARGUMENTS **"
   ]
  },
  {
   "cell_type": "code",
   "execution_count": 43,
   "id": "be816ba5",
   "metadata": {},
   "outputs": [],
   "source": [
    "def square(*args):\n",
    "    print(args,\"-\",type(args))\n",
    "    for i in args:\n",
    "        print(i**2)"
   ]
  },
  {
   "cell_type": "code",
   "execution_count": 44,
   "id": "39071b09",
   "metadata": {},
   "outputs": [
    {
     "name": "stdout",
     "output_type": "stream",
     "text": [
      "(1, 2, 3, 4, 6, 6, 87, 9, 0) - <class 'tuple'>\n",
      "1\n",
      "4\n",
      "9\n",
      "16\n",
      "36\n",
      "36\n",
      "7569\n",
      "81\n",
      "0\n"
     ]
    }
   ],
   "source": [
    "square(1,2,3,4,6,6,87,9,0)"
   ]
  },
  {
   "cell_type": "code",
   "execution_count": 54,
   "id": "80771464",
   "metadata": {},
   "outputs": [],
   "source": [
    "def kwargss(*args,**kwargs):\n",
    "    print(args,type(args))\n",
    "    print(kwargs,type(kwargs))\n",
    "    print('I have bought {} {} yesterday but have lost {} today!'.format(kwargs['quantity'],kwargs['product'],args[4]))"
   ]
  },
  {
   "cell_type": "code",
   "execution_count": 55,
   "id": "f47daa6d",
   "metadata": {},
   "outputs": [
    {
     "name": "stdout",
     "output_type": "stream",
     "text": [
      "(0, 1, 2, 3, 4, 5) <class 'tuple'>\n",
      "{'quantity': '10', 'product': 'eggs'} <class 'dict'>\n",
      "I have bought 10 eggs yesterday but have lost 4 today!\n"
     ]
    }
   ],
   "source": [
    "kwargss(0,1,2,3,4,5,quantity='10',product='eggs')"
   ]
  },
  {
   "cell_type": "code",
   "execution_count": 61,
   "id": "2ea383c7",
   "metadata": {},
   "outputs": [],
   "source": [
    "def even(*args):\n",
    "    for i in args:\n",
    "        if i%2==0:\n",
    "            print('{} is even'.format(i))"
   ]
  },
  {
   "cell_type": "code",
   "execution_count": 62,
   "id": "eb606fa2",
   "metadata": {},
   "outputs": [
    {
     "name": "stdout",
     "output_type": "stream",
     "text": [
      "2 is even\n",
      "4 is even\n",
      "6 is even\n",
      "8 is even\n"
     ]
    }
   ],
   "source": [
    "even(1,2,3,4,5,6,8)"
   ]
  },
  {
   "cell_type": "markdown",
   "id": "20b3c9b8",
   "metadata": {},
   "source": [
    "# LAMBDA,MAP AND FILTER FUNCTION"
   ]
  },
  {
   "cell_type": "code",
   "execution_count": 65,
   "id": "4913eb86",
   "metadata": {},
   "outputs": [
    {
     "data": {
      "text/plain": [
       "(1, 4, 9, 16, 25, 36)"
      ]
     },
     "execution_count": 65,
     "metadata": {},
     "output_type": "execute_result"
    }
   ],
   "source": [
    "l=(1,2,3,4,5,6)\n",
    "tuple(map(lambda x:x**2,l))"
   ]
  },
  {
   "cell_type": "code",
   "execution_count": 66,
   "id": "ed1db86e",
   "metadata": {},
   "outputs": [
    {
     "data": {
      "text/plain": [
       "[2, 4, 6]"
      ]
     },
     "execution_count": 66,
     "metadata": {},
     "output_type": "execute_result"
    }
   ],
   "source": [
    "list(filter(lambda x:x%2==0,l))"
   ]
  },
  {
   "cell_type": "code",
   "execution_count": 67,
   "id": "a7cad3b3",
   "metadata": {},
   "outputs": [],
   "source": [
    "def sqr(x):\n",
    "    return x**2\n",
    "def evn(a):\n",
    "    return a%2==0"
   ]
  },
  {
   "cell_type": "code",
   "execution_count": 68,
   "id": "b11840c2",
   "metadata": {},
   "outputs": [
    {
     "data": {
      "text/plain": [
       "(1, 4, 9, 16, 25, 36)"
      ]
     },
     "execution_count": 68,
     "metadata": {},
     "output_type": "execute_result"
    }
   ],
   "source": [
    "tuple(map(sqr,l))"
   ]
  },
  {
   "cell_type": "code",
   "execution_count": 69,
   "id": "9b67ecc9",
   "metadata": {},
   "outputs": [
    {
     "data": {
      "text/plain": [
       "{2, 4, 6}"
      ]
     },
     "execution_count": 69,
     "metadata": {},
     "output_type": "execute_result"
    }
   ],
   "source": [
    "set(filter(evn,l))"
   ]
  },
  {
   "cell_type": "code",
   "execution_count": 72,
   "id": "c5308343",
   "metadata": {},
   "outputs": [
    {
     "name": "stdout",
     "output_type": "stream",
     "text": [
      "1\n",
      "2\n",
      "3\n",
      "4\n",
      "5\n",
      "6\n"
     ]
    },
    {
     "data": {
      "text/plain": [
       "(None, None, None, None, None, None)"
      ]
     },
     "execution_count": 72,
     "metadata": {},
     "output_type": "execute_result"
    }
   ],
   "source": [
    "tuple(map(print,l))"
   ]
  },
  {
   "cell_type": "code",
   "execution_count": 74,
   "id": "3bf40935",
   "metadata": {},
   "outputs": [
    {
     "name": "stdout",
     "output_type": "stream",
     "text": [
      "1\n",
      "2\n",
      "3\n",
      "4\n",
      "5\n",
      "6\n"
     ]
    },
    {
     "data": {
      "text/plain": [
       "set()"
      ]
     },
     "execution_count": 74,
     "metadata": {},
     "output_type": "execute_result"
    }
   ],
   "source": [
    "set(filter(print,l))"
   ]
  },
  {
   "cell_type": "code",
   "execution_count": 79,
   "id": "afb2b727",
   "metadata": {},
   "outputs": [
    {
     "data": {
      "text/plain": [
       "[9, 16, 21, 24, 25]"
      ]
     },
     "execution_count": 79,
     "metadata": {},
     "output_type": "execute_result"
    }
   ],
   "source": [
    "l,m=[1,2,3,4,5,6,7,8,9,0],[9,8,7,6,5]\n",
    "list(map(lambda x,y:x*y,l,m))"
   ]
  },
  {
   "cell_type": "code",
   "execution_count": 82,
   "id": "55fa59a4",
   "metadata": {},
   "outputs": [
    {
     "data": {
      "text/plain": [
       "[1, 256, 2187, 4096, 3125]"
      ]
     },
     "execution_count": 82,
     "metadata": {},
     "output_type": "execute_result"
    }
   ],
   "source": [
    "l,m=[1,2,3,4,5,6,7,8,9,0],[9,8,7,6,5]\n",
    "list(map(lambda x,y:x**y,l,m))"
   ]
  },
  {
   "cell_type": "markdown",
   "id": "c6e72e86",
   "metadata": {},
   "source": [
    "# OBJECT ORIENTED LANGUAGE"
   ]
  },
  {
   "cell_type": "code",
   "execution_count": 83,
   "id": "f104c5e8",
   "metadata": {},
   "outputs": [],
   "source": [
    "#1st method\n",
    "#finding the area of a traingle.....\n",
    "class traingle():\n",
    "    def __init__(self,base):\n",
    "        self.base=base\n",
    "#defining the method of the class\n",
    "    def area(self,height):\n",
    "        return 0.5*self.base*height"
   ]
  },
  {
   "cell_type": "code",
   "execution_count": 84,
   "id": "98dd0ecc",
   "metadata": {},
   "outputs": [
    {
     "data": {
      "text/plain": [
       "<__main__.traingle at 0x1f5f01981f0>"
      ]
     },
     "execution_count": 84,
     "metadata": {},
     "output_type": "execute_result"
    }
   ],
   "source": [
    "o=traingle(40)\n",
    "o"
   ]
  },
  {
   "cell_type": "code",
   "execution_count": 85,
   "id": "12adff5b",
   "metadata": {},
   "outputs": [
    {
     "data": {
      "text/plain": [
       "__main__.traingle"
      ]
     },
     "execution_count": 85,
     "metadata": {},
     "output_type": "execute_result"
    }
   ],
   "source": [
    "type(o)"
   ]
  },
  {
   "cell_type": "code",
   "execution_count": 86,
   "id": "aef4ac62",
   "metadata": {},
   "outputs": [
    {
     "data": {
      "text/plain": [
       "40"
      ]
     },
     "execution_count": 86,
     "metadata": {},
     "output_type": "execute_result"
    }
   ],
   "source": [
    "o.base"
   ]
  },
  {
   "cell_type": "code",
   "execution_count": 87,
   "id": "58a61b03",
   "metadata": {},
   "outputs": [
    {
     "data": {
      "text/plain": [
       "400.0"
      ]
     },
     "execution_count": 87,
     "metadata": {},
     "output_type": "execute_result"
    }
   ],
   "source": [
    "o.area(20)"
   ]
  },
  {
   "cell_type": "code",
   "execution_count": 88,
   "id": "a7d30f75",
   "metadata": {},
   "outputs": [],
   "source": [
    "#2nd method\n",
    "#finding the area of a traingle.....\n",
    "class traingle():\n",
    "    height=20 #attribute of the class\n",
    "    def __init__(self,base):\n",
    "        self.base=base\n",
    "#defining the method of the class\n",
    "    def area(self):\n",
    "        return 0.5*self.base*traingle.height"
   ]
  },
  {
   "cell_type": "code",
   "execution_count": 89,
   "id": "11049839",
   "metadata": {},
   "outputs": [
    {
     "data": {
      "text/plain": [
       "<__main__.traingle at 0x1f5f20d9520>"
      ]
     },
     "execution_count": 89,
     "metadata": {},
     "output_type": "execute_result"
    }
   ],
   "source": [
    "q=traingle(40)\n",
    "q"
   ]
  },
  {
   "cell_type": "code",
   "execution_count": 90,
   "id": "a1660056",
   "metadata": {},
   "outputs": [
    {
     "data": {
      "text/plain": [
       "__main__.traingle"
      ]
     },
     "execution_count": 90,
     "metadata": {},
     "output_type": "execute_result"
    }
   ],
   "source": [
    "type(q)"
   ]
  },
  {
   "cell_type": "code",
   "execution_count": 91,
   "id": "a71be58c",
   "metadata": {},
   "outputs": [
    {
     "data": {
      "text/plain": [
       "20"
      ]
     },
     "execution_count": 91,
     "metadata": {},
     "output_type": "execute_result"
    }
   ],
   "source": [
    "q.height"
   ]
  },
  {
   "cell_type": "code",
   "execution_count": 92,
   "id": "844c2e9d",
   "metadata": {},
   "outputs": [
    {
     "data": {
      "text/plain": [
       "40"
      ]
     },
     "execution_count": 92,
     "metadata": {},
     "output_type": "execute_result"
    }
   ],
   "source": [
    "q.base"
   ]
  },
  {
   "cell_type": "code",
   "execution_count": 93,
   "id": "c706d170",
   "metadata": {},
   "outputs": [
    {
     "data": {
      "text/plain": [
       "400.0"
      ]
     },
     "execution_count": 93,
     "metadata": {},
     "output_type": "execute_result"
    }
   ],
   "source": [
    "q.area()"
   ]
  },
  {
   "cell_type": "code",
   "execution_count": 129,
   "id": "6035d2fe",
   "metadata": {},
   "outputs": [],
   "source": [
    "#encapsulation\n",
    "#inheritence\n",
    "class t2(traingle):\n",
    "    def __init(self,l):\n",
    "        traingle.__init__(self,l) \n",
    "    def area(self,a):\n",
    "        return self.base*traingle.height*a"
   ]
  },
  {
   "cell_type": "code",
   "execution_count": 130,
   "id": "835ab5bf",
   "metadata": {},
   "outputs": [
    {
     "data": {
      "text/plain": [
       "<__main__.t2 at 0x1f5f20fc190>"
      ]
     },
     "execution_count": 130,
     "metadata": {},
     "output_type": "execute_result"
    }
   ],
   "source": [
    "z=t2(40)\n",
    "z"
   ]
  },
  {
   "cell_type": "code",
   "execution_count": 131,
   "id": "913f7448",
   "metadata": {},
   "outputs": [
    {
     "data": {
      "text/plain": [
       "__main__.t2"
      ]
     },
     "execution_count": 131,
     "metadata": {},
     "output_type": "execute_result"
    }
   ],
   "source": [
    "type(z)"
   ]
  },
  {
   "cell_type": "code",
   "execution_count": 132,
   "id": "b63f6185",
   "metadata": {},
   "outputs": [
    {
     "data": {
      "text/plain": [
       "40"
      ]
     },
     "execution_count": 132,
     "metadata": {},
     "output_type": "execute_result"
    }
   ],
   "source": [
    "z.base"
   ]
  },
  {
   "cell_type": "code",
   "execution_count": 133,
   "id": "7212a4eb",
   "metadata": {},
   "outputs": [
    {
     "data": {
      "text/plain": [
       "20"
      ]
     },
     "execution_count": 133,
     "metadata": {},
     "output_type": "execute_result"
    }
   ],
   "source": [
    "z.height"
   ]
  },
  {
   "cell_type": "code",
   "execution_count": 134,
   "id": "530c5fed",
   "metadata": {},
   "outputs": [
    {
     "data": {
      "text/plain": [
       "8000"
      ]
     },
     "execution_count": 134,
     "metadata": {},
     "output_type": "execute_result"
    }
   ],
   "source": [
    "z.area(10)"
   ]
  },
  {
   "cell_type": "markdown",
   "id": "6a2742e7",
   "metadata": {},
   "source": [
    "# EXCEPTION HANDLING"
   ]
  },
  {
   "cell_type": "code",
   "execution_count": 141,
   "id": "3eded4d9",
   "metadata": {},
   "outputs": [
    {
     "name": "stdout",
     "output_type": "stream",
     "text": [
      "ZeroDivisionError\n",
      "Error hidden\n"
     ]
    }
   ],
   "source": [
    "try:\n",
    "    a,b=1,0\n",
    "    z=a/b\n",
    "except:\n",
    "    print('ZeroDivisionError')\n",
    "\n",
    "finally:\n",
    "    print('Error hidden')\n",
    "    "
   ]
  },
  {
   "cell_type": "code",
   "execution_count": 156,
   "id": "882b10e6",
   "metadata": {},
   "outputs": [
    {
     "name": "stdout",
     "output_type": "stream",
     "text": [
      "IndentationError\n",
      "error removed\n"
     ]
    }
   ],
   "source": [
    "try:\n",
    "    l=[1,2,3,4]\n",
    "    for i in l:\n",
    "        print (i**A)\n",
    "        \n",
    "except:\n",
    "    print('IndentationError')\n",
    "finally:\n",
    "    print('error removed')\n",
    "    "
   ]
  },
  {
   "cell_type": "code",
   "execution_count": 160,
   "id": "bb625520",
   "metadata": {},
   "outputs": [
    {
     "name": "stdout",
     "output_type": "stream",
     "text": [
      "NameError is there\n"
     ]
    }
   ],
   "source": [
    "try:\n",
    "    l=[1,2,3,4]\n",
    "    for i in l:\n",
    "        print (i**A)\n",
    "except:\n",
    "    NameError\n",
    "finally:\n",
    "    print('NameError is there')"
   ]
  },
  {
   "cell_type": "markdown",
   "id": "f0259335",
   "metadata": {},
   "source": [
    "# FINDING PALINDROME"
   ]
  },
  {
   "cell_type": "code",
   "execution_count": 177,
   "id": "c6a9f5fd",
   "metadata": {},
   "outputs": [],
   "source": [
    "def palindrome(l):\n",
    "    if str(l)[::-1]==str(l):\n",
    "        print (f\"{l} is a palindrome\")\n",
    "    else:\n",
    "        print (f\"{l} is not a palindrome\")"
   ]
  },
  {
   "cell_type": "code",
   "execution_count": 178,
   "id": "7ebe4ba4",
   "metadata": {},
   "outputs": [
    {
     "name": "stdout",
     "output_type": "stream",
     "text": [
      "121 is a palindrome\n"
     ]
    }
   ],
   "source": [
    "palindrome(121)"
   ]
  },
  {
   "cell_type": "code",
   "execution_count": 179,
   "id": "6f7a6436",
   "metadata": {},
   "outputs": [
    {
     "name": "stdout",
     "output_type": "stream",
     "text": [
      "430 is not a palindrome\n"
     ]
    }
   ],
   "source": [
    "palindrome(430)"
   ]
  },
  {
   "cell_type": "code",
   "execution_count": 180,
   "id": "ff7162ba",
   "metadata": {},
   "outputs": [
    {
     "name": "stdout",
     "output_type": "stream",
     "text": [
      "11011 is a palindrome\n"
     ]
    }
   ],
   "source": [
    "palindrome(11011)"
   ]
  },
  {
   "cell_type": "code",
   "execution_count": 181,
   "id": "80595ccc",
   "metadata": {},
   "outputs": [
    {
     "name": "stdout",
     "output_type": "stream",
     "text": [
      "samosa is not a palindrome\n"
     ]
    }
   ],
   "source": [
    "palindrome('samosa')"
   ]
  },
  {
   "cell_type": "code",
   "execution_count": 182,
   "id": "705810c4",
   "metadata": {},
   "outputs": [
    {
     "name": "stdout",
     "output_type": "stream",
     "text": [
      "aka is a palindrome\n"
     ]
    }
   ],
   "source": [
    "palindrome('aka')"
   ]
  },
  {
   "cell_type": "code",
   "execution_count": 187,
   "id": "7322fdfe",
   "metadata": {},
   "outputs": [
    {
     "name": "stdout",
     "output_type": "stream",
     "text": [
      "racecar is a palindrome\n"
     ]
    }
   ],
   "source": [
    "palindrome('racecar')"
   ]
  },
  {
   "cell_type": "code",
   "execution_count": 188,
   "id": "4e7df874",
   "metadata": {},
   "outputs": [],
   "source": [
    "#passing a list\n",
    "def palindrome(l):\n",
    "    for i in l:\n",
    "        if str(i)[::-1]==str(i):\n",
    "            print (f\"{i} is a palindrome\")\n",
    "        else:\n",
    "            print (f\"{i} is not a palindrome\")"
   ]
  },
  {
   "cell_type": "code",
   "execution_count": 190,
   "id": "a2407410",
   "metadata": {},
   "outputs": [
    {
     "name": "stdout",
     "output_type": "stream",
     "text": [
      "121 is a palindrome\n",
      "aka is a palindrome\n",
      "racecar is a palindrome\n",
      "samosa is not a palindrome\n",
      "343 is a palindrome\n",
      "401 is not a palindrome\n"
     ]
    }
   ],
   "source": [
    "palindrome([121,'aka','racecar','samosa',343,401])"
   ]
  },
  {
   "cell_type": "markdown",
   "id": "53e1cea3",
   "metadata": {},
   "source": [
    "# FINDING EVEN NUMBER"
   ]
  },
  {
   "cell_type": "code",
   "execution_count": 191,
   "id": "d3c9a70d",
   "metadata": {},
   "outputs": [],
   "source": [
    "def even(l):\n",
    "    for i in l:\n",
    "        if i%2==0:\n",
    "            print('{} is an even number'.format(i))\n",
    "        else:\n",
    "            print('{} is not an even number'.format(i))"
   ]
  },
  {
   "cell_type": "code",
   "execution_count": 192,
   "id": "0398364c",
   "metadata": {},
   "outputs": [
    {
     "name": "stdout",
     "output_type": "stream",
     "text": [
      "11 is not an even number\n",
      "2 is an even number\n",
      "1 is not an even number\n",
      "33 is not an even number\n",
      "4 is an even number\n",
      "5 is not an even number\n",
      "6 is an even number\n",
      "7 is not an even number\n",
      "8 is an even number\n",
      "9 is not an even number\n",
      "22 is an even number\n",
      "3 is not an even number\n",
      "4 is an even number\n",
      "5 is not an even number\n",
      "6 is an even number\n",
      "24 is an even number\n",
      "22 is an even number\n",
      "78 is an even number\n"
     ]
    }
   ],
   "source": [
    "even([11,2,1,33,4,5,6,7,8,9,22,3,4,5,6,24,22,78])"
   ]
  },
  {
   "cell_type": "code",
   "execution_count": 197,
   "id": "d71b4283",
   "metadata": {},
   "outputs": [],
   "source": [
    "def even(l):\n",
    "    return l%2==0 "
   ]
  },
  {
   "cell_type": "code",
   "execution_count": 199,
   "id": "c3bea313",
   "metadata": {},
   "outputs": [
    {
     "data": {
      "text/plain": [
       "True"
      ]
     },
     "execution_count": 199,
     "metadata": {},
     "output_type": "execute_result"
    }
   ],
   "source": [
    "even(2)"
   ]
  },
  {
   "cell_type": "code",
   "execution_count": 200,
   "id": "b55ebc3f",
   "metadata": {},
   "outputs": [
    {
     "data": {
      "text/plain": [
       "[2, 4, 6, 8, 22, 4, 6, 24, 22, 78]"
      ]
     },
     "execution_count": 200,
     "metadata": {},
     "output_type": "execute_result"
    }
   ],
   "source": [
    "list(filter(even,[11,2,1,33,4,5,6,7,8,9,22,3,4,5,6,24,22,78]))"
   ]
  },
  {
   "cell_type": "markdown",
   "id": "c9e0e47b",
   "metadata": {},
   "source": [
    "# FINDING FACTORIAL OF A NUMBER"
   ]
  },
  {
   "cell_type": "code",
   "execution_count": 10,
   "id": "6032cfcd",
   "metadata": {},
   "outputs": [],
   "source": [
    "#WILL USE RECURSION METHOD IN WHICH FUNCTION CALLS ITSELF TO SOLVE THE PROBLEM\n",
    "def factorial(a):\n",
    "    if a==0:\n",
    "        return 1\n",
    "    else:\n",
    "        return a*factorial(a-1)"
   ]
  },
  {
   "cell_type": "code",
   "execution_count": 11,
   "id": "a6f9447b",
   "metadata": {},
   "outputs": [
    {
     "data": {
      "text/plain": [
       "1"
      ]
     },
     "execution_count": 11,
     "metadata": {},
     "output_type": "execute_result"
    }
   ],
   "source": [
    "factorial(0)"
   ]
  },
  {
   "cell_type": "code",
   "execution_count": 12,
   "id": "073c5872",
   "metadata": {},
   "outputs": [
    {
     "data": {
      "text/plain": [
       "6"
      ]
     },
     "execution_count": 12,
     "metadata": {},
     "output_type": "execute_result"
    }
   ],
   "source": [
    "factorial(3)"
   ]
  },
  {
   "cell_type": "code",
   "execution_count": 13,
   "id": "a3e67bed",
   "metadata": {},
   "outputs": [
    {
     "data": {
      "text/plain": [
       "120"
      ]
     },
     "execution_count": 13,
     "metadata": {},
     "output_type": "execute_result"
    }
   ],
   "source": [
    "factorial(5)"
   ]
  },
  {
   "cell_type": "code",
   "execution_count": 14,
   "id": "c2b65d72",
   "metadata": {},
   "outputs": [
    {
     "data": {
      "text/plain": [
       "2"
      ]
     },
     "execution_count": 14,
     "metadata": {},
     "output_type": "execute_result"
    }
   ],
   "source": [
    "factorial(2)"
   ]
  },
  {
   "cell_type": "code",
   "execution_count": 15,
   "id": "e8facf0d",
   "metadata": {},
   "outputs": [
    {
     "data": {
      "text/plain": [
       "3628800"
      ]
     },
     "execution_count": 15,
     "metadata": {},
     "output_type": "execute_result"
    }
   ],
   "source": [
    "factorial(10)"
   ]
  },
  {
   "cell_type": "markdown",
   "id": "f0eacfed",
   "metadata": {},
   "source": [
    "# ADDITION,SUBSTRACTION,MULTIPLICATION AND DIVISION OF ALL THE ELEMENT OF A LIST"
   ]
  },
  {
   "cell_type": "code",
   "execution_count": 41,
   "id": "daabf4bd",
   "metadata": {},
   "outputs": [],
   "source": [
    "l=[1,2,3,4,5,6,7,9,8]\n",
    "def sum(a):\n",
    "    add=0\n",
    "    for i in a:\n",
    "        add+=i\n",
    "    print(add)\n",
    "def subs(a):\n",
    "    sub=0\n",
    "    for i in a:\n",
    "        sub-=i\n",
    "    print(sub)\n",
    "def mul(a):\n",
    "    mlt=1\n",
    "    for i in a:\n",
    "        mlt*=i\n",
    "    print(mlt)\n",
    "def div(a):\n",
    "    dvsn=1\n",
    "    for i in a:\n",
    "        dvsn/=i\n",
    "    print(dvsn)"
   ]
  },
  {
   "cell_type": "code",
   "execution_count": 42,
   "id": "e02cc463",
   "metadata": {},
   "outputs": [
    {
     "name": "stdout",
     "output_type": "stream",
     "text": [
      "45\n"
     ]
    }
   ],
   "source": [
    "sum(l)"
   ]
  },
  {
   "cell_type": "code",
   "execution_count": 43,
   "id": "17581d48",
   "metadata": {},
   "outputs": [
    {
     "name": "stdout",
     "output_type": "stream",
     "text": [
      "-45\n"
     ]
    }
   ],
   "source": [
    "subs(l)"
   ]
  },
  {
   "cell_type": "code",
   "execution_count": 44,
   "id": "ab4cb4b4",
   "metadata": {},
   "outputs": [
    {
     "name": "stdout",
     "output_type": "stream",
     "text": [
      "362880\n"
     ]
    }
   ],
   "source": [
    "mul(l)"
   ]
  },
  {
   "cell_type": "code",
   "execution_count": 45,
   "id": "e8804c1d",
   "metadata": {},
   "outputs": [
    {
     "name": "stdout",
     "output_type": "stream",
     "text": [
      "2.7557319223985893e-06\n"
     ]
    }
   ],
   "source": [
    "div(l)"
   ]
  },
  {
   "cell_type": "markdown",
   "id": "ebfa4825",
   "metadata": {},
   "source": [
    "# FINDING PRIME NUMBER"
   ]
  },
  {
   "cell_type": "code",
   "execution_count": 66,
   "id": "a123ea9c",
   "metadata": {},
   "outputs": [],
   "source": [
    "def prime(a):\n",
    "    if a<=1:\n",
    "        return f'{a} is neither prime nor composite number!'\n",
    "    for i in range(2,int(a**0.5)+1):\n",
    "        if a%i==0:\n",
    "            return f'Ohh No! {a} is a composite number!'        \n",
    "    return f'Yeah! {a} is a prime number!'     "
   ]
  },
  {
   "cell_type": "code",
   "execution_count": 67,
   "id": "150ca69d",
   "metadata": {},
   "outputs": [
    {
     "data": {
      "text/plain": [
       "'0 is neither prime nor composite number!'"
      ]
     },
     "execution_count": 67,
     "metadata": {},
     "output_type": "execute_result"
    }
   ],
   "source": [
    "prime(0)"
   ]
  },
  {
   "cell_type": "code",
   "execution_count": 68,
   "id": "9214d2fe",
   "metadata": {},
   "outputs": [
    {
     "data": {
      "text/plain": [
       "'1 is neither prime nor composite number!'"
      ]
     },
     "execution_count": 68,
     "metadata": {},
     "output_type": "execute_result"
    }
   ],
   "source": [
    "prime(1)"
   ]
  },
  {
   "cell_type": "code",
   "execution_count": 69,
   "id": "f78ebf30",
   "metadata": {},
   "outputs": [
    {
     "data": {
      "text/plain": [
       "'Yeah! 2 is a prime number!'"
      ]
     },
     "execution_count": 69,
     "metadata": {},
     "output_type": "execute_result"
    }
   ],
   "source": [
    "prime(2)"
   ]
  },
  {
   "cell_type": "code",
   "execution_count": 70,
   "id": "7824f260",
   "metadata": {},
   "outputs": [
    {
     "data": {
      "text/plain": [
       "'Yeah! 3 is a prime number!'"
      ]
     },
     "execution_count": 70,
     "metadata": {},
     "output_type": "execute_result"
    }
   ],
   "source": [
    "prime(3)"
   ]
  },
  {
   "cell_type": "code",
   "execution_count": 71,
   "id": "9900bfc1",
   "metadata": {},
   "outputs": [
    {
     "data": {
      "text/plain": [
       "'Ohh No! 4 is a composite number!'"
      ]
     },
     "execution_count": 71,
     "metadata": {},
     "output_type": "execute_result"
    }
   ],
   "source": [
    "prime(4)"
   ]
  },
  {
   "cell_type": "code",
   "execution_count": 72,
   "id": "245a8a65",
   "metadata": {},
   "outputs": [
    {
     "data": {
      "text/plain": [
       "'Ohh No! 15 is a composite number!'"
      ]
     },
     "execution_count": 72,
     "metadata": {},
     "output_type": "execute_result"
    }
   ],
   "source": [
    "prime(15)"
   ]
  },
  {
   "cell_type": "code",
   "execution_count": 73,
   "id": "e536a2fb",
   "metadata": {},
   "outputs": [
    {
     "data": {
      "text/plain": [
       "'Ohh No! 99 is a composite number!'"
      ]
     },
     "execution_count": 73,
     "metadata": {},
     "output_type": "execute_result"
    }
   ],
   "source": [
    "prime(99)"
   ]
  },
  {
   "cell_type": "code",
   "execution_count": 74,
   "id": "b18e1954",
   "metadata": {},
   "outputs": [
    {
     "data": {
      "text/plain": [
       "'Yeah! 79 is a prime number!'"
      ]
     },
     "execution_count": 74,
     "metadata": {},
     "output_type": "execute_result"
    }
   ],
   "source": [
    "prime(79)"
   ]
  },
  {
   "cell_type": "markdown",
   "id": "d4ba937e",
   "metadata": {},
   "source": [
    "# FINDING FIBONACCI SERIES"
   ]
  },
  {
   "cell_type": "code",
   "execution_count": 75,
   "id": "3eff70ad",
   "metadata": {},
   "outputs": [],
   "source": [
    "def fibonacci(n):\n",
    "    a,b=0,1\n",
    "    print(a)\n",
    "    for i in range(n):\n",
    "        a,b=b,a+b\n",
    "        print(a)"
   ]
  },
  {
   "cell_type": "code",
   "execution_count": 77,
   "id": "57b04a18",
   "metadata": {},
   "outputs": [
    {
     "name": "stdout",
     "output_type": "stream",
     "text": [
      "0\n",
      "1\n",
      "1\n",
      "2\n",
      "3\n",
      "5\n",
      "8\n",
      "13\n",
      "21\n",
      "34\n"
     ]
    }
   ],
   "source": [
    "fibonacci(9)"
   ]
  },
  {
   "cell_type": "code",
   "execution_count": 78,
   "id": "a6f25dfa",
   "metadata": {},
   "outputs": [
    {
     "name": "stdout",
     "output_type": "stream",
     "text": [
      "0\n",
      "1\n",
      "1\n",
      "2\n",
      "3\n",
      "5\n",
      "8\n",
      "13\n",
      "21\n",
      "34\n",
      "55\n",
      "89\n",
      "144\n",
      "233\n",
      "377\n",
      "610\n"
     ]
    }
   ],
   "source": [
    "fibonacci(15)"
   ]
  },
  {
   "cell_type": "markdown",
   "id": "04cdc98a",
   "metadata": {},
   "source": [
    "# FINDING THE SUM OF DIGITS OF A NUMBER"
   ]
  },
  {
   "cell_type": "code",
   "execution_count": 79,
   "id": "33b6bd74",
   "metadata": {},
   "outputs": [],
   "source": [
    "def add(a):\n",
    "    sum=0\n",
    "    while a>0:\n",
    "        sum=sum+a%10\n",
    "        a=a//10\n",
    "    print(sum)"
   ]
  },
  {
   "cell_type": "code",
   "execution_count": 80,
   "id": "e3202e38",
   "metadata": {},
   "outputs": [
    {
     "name": "stdout",
     "output_type": "stream",
     "text": [
      "5\n"
     ]
    }
   ],
   "source": [
    "add(23)"
   ]
  },
  {
   "cell_type": "code",
   "execution_count": 81,
   "id": "d80a2f8f",
   "metadata": {},
   "outputs": [
    {
     "name": "stdout",
     "output_type": "stream",
     "text": [
      "15\n"
     ]
    }
   ],
   "source": [
    "add(546)"
   ]
  },
  {
   "cell_type": "code",
   "execution_count": 82,
   "id": "3caf97e7",
   "metadata": {},
   "outputs": [
    {
     "name": "stdout",
     "output_type": "stream",
     "text": [
      "6\n"
     ]
    }
   ],
   "source": [
    "add(1005)"
   ]
  },
  {
   "cell_type": "markdown",
   "id": "4a9069a0",
   "metadata": {},
   "source": [
    "# FINDING ARMSTRONG NUMBER"
   ]
  },
  {
   "cell_type": "code",
   "execution_count": 130,
   "id": "d179b558",
   "metadata": {},
   "outputs": [],
   "source": [
    "def armstrong(n):\n",
    "    original_n = n\n",
    "    sum = 0\n",
    "    while n > 0:\n",
    "        #sum += (n % 10) ** 3\n",
    "        sum=sum+(n%10)**3\n",
    "        n //= 10\n",
    "    print(sum)\n",
    "    if sum == original_n:\n",
    "        return f'{original_n} is an armstrong number'\n",
    "    else:\n",
    "        return f'{original_n} is not an armstrong number'"
   ]
  },
  {
   "cell_type": "code",
   "execution_count": 131,
   "id": "92a1f90c",
   "metadata": {},
   "outputs": [
    {
     "name": "stdout",
     "output_type": "stream",
     "text": [
      "371\n"
     ]
    },
    {
     "data": {
      "text/plain": [
       "'371 is an armstrong number'"
      ]
     },
     "execution_count": 131,
     "metadata": {},
     "output_type": "execute_result"
    }
   ],
   "source": [
    "armstrong(371)"
   ]
  },
  {
   "cell_type": "code",
   "execution_count": 132,
   "id": "995195ed",
   "metadata": {},
   "outputs": [
    {
     "name": "stdout",
     "output_type": "stream",
     "text": [
      "153\n"
     ]
    },
    {
     "data": {
      "text/plain": [
       "'153 is an armstrong number'"
      ]
     },
     "execution_count": 132,
     "metadata": {},
     "output_type": "execute_result"
    }
   ],
   "source": [
    "armstrong(153)"
   ]
  },
  {
   "cell_type": "code",
   "execution_count": 133,
   "id": "b90339ed",
   "metadata": {},
   "outputs": [
    {
     "name": "stdout",
     "output_type": "stream",
     "text": [
      "495\n"
     ]
    },
    {
     "data": {
      "text/plain": [
       "'375 is not an armstrong number'"
      ]
     },
     "execution_count": 133,
     "metadata": {},
     "output_type": "execute_result"
    }
   ],
   "source": [
    "armstrong(375)"
   ]
  },
  {
   "cell_type": "markdown",
   "id": "7176873d",
   "metadata": {},
   "source": [
    "# COUNTING EVERY ELEMENT OF A STRING"
   ]
  },
  {
   "cell_type": "code",
   "execution_count": 135,
   "id": "56c76b47",
   "metadata": {},
   "outputs": [],
   "source": [
    "a='ashutoshashutoshmishrasingh'"
   ]
  },
  {
   "cell_type": "code",
   "execution_count": 142,
   "id": "c5700acb",
   "metadata": {},
   "outputs": [
    {
     "name": "stdout",
     "output_type": "stream",
     "text": [
      "Count in \"u\" is-- 2\n",
      "Count in \"n\" is-- 1\n",
      "Count in \"i\" is-- 2\n",
      "Count in \"s\" is-- 6\n",
      "Count in \"g\" is-- 1\n",
      "Count in \"o\" is-- 2\n",
      "Count in \"t\" is-- 2\n",
      "Count in \"m\" is-- 1\n",
      "Count in \"r\" is-- 1\n",
      "Count in \"h\" is-- 6\n",
      "Count in \"a\" is-- 3\n"
     ]
    }
   ],
   "source": [
    "for i in set(a):\n",
    "    print(f'Count in \"{i}\" is-- {a.count(i)}')"
   ]
  },
  {
   "cell_type": "code",
   "execution_count": null,
   "id": "da8e861b",
   "metadata": {},
   "outputs": [],
   "source": []
  }
 ],
 "metadata": {
  "kernelspec": {
   "display_name": "Python 3 (ipykernel)",
   "language": "python",
   "name": "python3"
  },
  "language_info": {
   "codemirror_mode": {
    "name": "ipython",
    "version": 3
   },
   "file_extension": ".py",
   "mimetype": "text/x-python",
   "name": "python",
   "nbconvert_exporter": "python",
   "pygments_lexer": "ipython3",
   "version": "3.9.7"
  }
 },
 "nbformat": 4,
 "nbformat_minor": 5
}
